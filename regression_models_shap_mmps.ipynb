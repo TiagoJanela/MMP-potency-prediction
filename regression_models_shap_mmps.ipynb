{
 "cells": [
  {
   "cell_type": "markdown",
   "source": [
    "# # Regression SHAP MMP"
   ],
   "metadata": {
    "collapsed": false
   },
   "id": "3dedd118d6006cb3"
  },
  {
   "cell_type": "code",
   "execution_count": 1,
   "id": "initial_id",
   "metadata": {
    "collapsed": true,
    "ExecuteTime": {
     "end_time": "2023-09-30T15:50:18.496745800Z",
     "start_time": "2023-09-30T15:50:18.452746100Z"
    }
   },
   "outputs": [],
   "source": [
    "%load_ext autoreload"
   ]
  },
  {
   "cell_type": "markdown",
   "source": [
    "### Import libraries"
   ],
   "metadata": {
    "collapsed": false
   },
   "id": "bf299eebd72cf8b"
  },
  {
   "cell_type": "code",
   "execution_count": null,
   "outputs": [],
   "source": [
    "import os \n",
    "from ML.machine_learning_models import *\n",
    "from ML.machine_learning_models import Model_Evaluation as ml_evaluation\n",
    "from ML.data_preprocessing import Dataset\n",
    "from ML.ml_utils_reg import create_directory, ECFP4, set_global_determinism\n",
    "from ML.data_utils import *\n",
    "from tqdm.notebook import tqdm\n",
    "from ML.utils_shap import get_df_shap\n",
    "import joblib\n",
    "import shap\n",
    "%autoreload 2"
   ],
   "metadata": {
    "collapsed": false
   },
   "id": "cbadf77a6d2a5f9c"
  },
  {
   "cell_type": "markdown",
   "source": [
    "### Parameters"
   ],
   "metadata": {
    "collapsed": false
   },
   "id": "53110b0154fb7b2b"
  },
  {
   "cell_type": "code",
   "execution_count": null,
   "outputs": [],
   "source": [
    "# parameters\n",
    "# ML models\n",
    "model_list = ['SVR', 'RFR']\n",
    "# number of trials\n",
    "trial_splits = 10\n",
    "# number of mmp trials\n",
    "mmp_trials = 1\n",
    "# fingerprint\n",
    "fingerprint = 'ECFP4'\n",
    "# approach\n",
    "approach = 'regression'"
   ],
   "metadata": {
    "collapsed": false,
    "ExecuteTime": {
     "end_time": "2023-09-30T15:50:21.908850900Z",
     "start_time": "2023-09-30T15:50:21.903861100Z"
    }
   },
   "id": "6db94a435d3c7a09"
  },
  {
   "cell_type": "markdown",
   "source": [
    "### Load data"
   ],
   "metadata": {
    "collapsed": false
   },
   "id": "2adf78ca4068a306"
  },
  {
   "cell_type": "code",
   "execution_count": null,
   "outputs": [],
   "source": [
    "# dataset path\n",
    "db_path = \"./dataset/\"\n",
    "main_folder = \"./regression_shap_mmp/\"\n",
    "results_path = f'./{main_folder}/{fingerprint}/{approach}/'"
   ],
   "metadata": {
    "collapsed": false,
    "ExecuteTime": {
     "start_time": "2023-09-30T15:50:21.904860600Z"
    }
   },
   "id": "64edda20c5d3b1f3"
  },
  {
   "cell_type": "code",
   "execution_count": null,
   "outputs": [],
   "source": [
    "df_regression = pd.read_csv(db_path + \"chembl_33_pIC50.csv\")\n",
    "df_regression"
   ],
   "metadata": {
    "collapsed": false,
    "ExecuteTime": {
     "start_time": "2023-09-30T15:50:21.905854Z"
    }
   },
   "id": "e75b80996fceb1be"
  },
  {
   "cell_type": "markdown",
   "source": [
    "### Load MMP datasets"
   ],
   "metadata": {
    "collapsed": false
   },
   "id": "99b79bbe9e01a669"
  },
  {
   "cell_type": "code",
   "execution_count": null,
   "outputs": [],
   "source": [
    "mmp_path = \"./ccrlib_master/\"\n",
    "df_mmp = pd.read_csv(mmp_path + \"df_mmp_final_top10.csv\")\n",
    "df_mmp"
   ],
   "metadata": {
    "collapsed": false,
    "ExecuteTime": {
     "start_time": "2023-09-30T15:50:21.906855Z"
    }
   },
   "id": "7eab2eb865d22a26"
  },
  {
   "cell_type": "code",
   "execution_count": null,
   "outputs": [],
   "source": [
    "df_shapL = []\n",
    "\n",
    "for target in tqdm(df_mmp.tid.unique()[:]):\n",
    "\n",
    "    target_path = create_directory(f'./{main_folder}/{fingerprint}/{approach}/{target}/')\n",
    "    \n",
    "    print(f\"Target: {target}\")\n",
    "\n",
    "    df_regression_target = df_regression[df_regression.tid == target].reset_index(drop=True)\n",
    "    \n",
    "    for mmp_trial in range(mmp_trials):\n",
    "        print(f\"MMP trial: {mmp_trial}\")\n",
    "        \n",
    "        df_mmp_target = df_mmp[(df_mmp.tid == target) & (df_mmp.mmp_trial == mmp_trial)]\n",
    "        \n",
    "        for split in ['Random', 'Stratified']:\n",
    "            print(f\"Split: {split}\")\n",
    "            for trial in range(trial_splits):\n",
    "                print(f\"Trial: {trial}\")\n",
    "                \n",
    "                # train test split\n",
    "                regression_set, train_idx, test_idx = split_data(df_regression_target, df_mmp_target, test_size=0.5, random_seed=trial, split_type=split)\n",
    "\n",
    "                # dataset \n",
    "                dataset = Dataset(np.array(ECFP4(regression_set.smiles.values)), np.array(regression_set.pPot.values))\n",
    "                dataset.add_instance(\"target\", regression_set.tid.values)\n",
    "                dataset.add_instance(\"smiles\", regression_set.smiles.values)\n",
    "                dataset.add_instance(\"cid\", regression_set.cid.values)\n",
    "                dataset.add_instance(\"mmp_id\", regression_set.mmp_id.values)\n",
    "                dataset.add_instance(\"analog_series_id\", regression_set.analog_series_id.values)\n",
    "                dataset.add_instance(\"train_test\", regression_set.train_test.values)\n",
    "                dataset.add_instance(\"similarity\", regression_set.similarity.values)\n",
    "                dataset.add_instance(\"dPot\", regression_set.dpot.values)\n",
    "                \n",
    "                # Training set\n",
    "                training_set = dataset[train_idx]\n",
    "                # Test set\n",
    "                test_set = dataset[test_idx]\n",
    "                \n",
    "                # Set seed\n",
    "                set_global_determinism(seed=trial)\n",
    "                \n",
    "                for model in model_list:\n",
    "                    print(f\"Model: {model}\")\n",
    "                    # Create saving directory\n",
    "                    model_fpath = create_directory(f\"./regression_mmp/{fingerprint}/{approach}/{target}/{split}/{model}/\", verbose=False)\n",
    "    \n",
    "                    # ml model\n",
    "                    model_loaded = None\n",
    "                    if os.path.exists(os.path.join(model_fpath, f\"{model}_{trial}_{mmp_trial}.pkl\")):\n",
    "                        ml_model = joblib.load(os.path.join(model_fpath, f\"{model}_{trial}_{mmp_trial}.pkl\"))\n",
    "                        print(f\"Model {model}_{trial} loaded\")\n",
    "                        model_loaded = True\n",
    "                    else:\n",
    "                        ml_model = MLModel(training_set, model)\n",
    "                        ml_model = ml_model.model\n",
    "                        # save model\n",
    "                        joblib.dump(ml_model, os.path.join(model_fpath, f\"{model}_{trial}_{mmp_trial}.pkl\"))\n",
    "    \n",
    "                    # Model evaluation\n",
    "                    model_eval_train = ml_evaluation(model=ml_model, data=training_set, model_id=model,\n",
    "                                                         model_loaded=model_loaded)\n",
    "                        \n",
    "                    model_eval_test = ml_evaluation(model=ml_model, data=test_set, model_id=model,\n",
    "                                                    model_loaded=model_loaded)\n",
    "                    \n",
    "                    # Prediction df\n",
    "                    predictions_train = get_df_results(model_eval_train.predictions, trial=trial, approach=approach, \n",
    "                                                        fingerprint=fingerprint, split=split, mm_trial=mmp_trial)\n",
    "\n",
    "                    # Prediction df\n",
    "                    predictions_test = get_df_results(model_eval_test.predictions, trial=trial, approach=approach, \n",
    "                                                      fingerprint=fingerprint, split=split, mm_trial=mmp_trial)\n",
    "\n",
    "                    # SHAP\n",
    "                    if model == 'RFR':\n",
    "                        model_expl_name = 'TreeExplainer'\n",
    "                        model_explainer = shap.TreeExplainer(ml_model, feature_perturbation='interventional', data=training_set.features)\n",
    "                        expected_value = model_explainer.expected_value\n",
    "                        shap_values_tr = model_explainer.shap_values(X=training_set.features, check_additivity=True).tolist()\n",
    "                        shap_values_te = model_explainer.shap_values(X=test_set.features, check_additivity=True).tolist()\n",
    "                        pred_train = ml_model.predict(training_set.features)\n",
    "                        pred_test = ml_model.predict(test_set.features)\n",
    "\n",
    "                    elif model == 'SVR':\n",
    "                        model_expl_name = 'SVETA'\n",
    "                        model_explainer = ml_model\n",
    "                        shap_values_tr = [model_explainer.vector_feature_weights(vec) for vec in csr_matrix(training_set.features)]\n",
    "                        shap_values_te = [model_explainer.vector_feature_weights(vec) for vec in csr_matrix(test_set.features)]\n",
    "                        expected_value = model_explainer.expected_value[0]\n",
    "                        pred_train = ml_model.predict(csr_matrix(training_set.features))\n",
    "                        pred_test = ml_model.predict(csr_matrix(test_set.features))\n",
    "\n",
    "                    # shap df\n",
    "                    df_shap_trial_tr = get_df_shap(data=training_set, trial=trial, model=model, split=split, expected_value=expected_value,\n",
    "                                                   model_explainer=model_expl_name, predictions_test=pred_train, shap_values=shap_values_tr)\n",
    "\n",
    "                    df_shap_trial_te = get_df_shap(data=test_set, trial=trial, model=model, split=split, expected_value=expected_value,\n",
    "                                                   model_explainer=model_expl_name, predictions_test=pred_test, shap_values=shap_values_te)\n",
    "                    \n",
    "                    df_shap_trial_tr['train_test'] = 'train'\n",
    "                    df_shap_trial_te['train_test'] = 'test'\n",
    "                    df_shap_trial_tr['mmp_trial'] = mmp_trial\n",
    "                    df_shap_trial_te['mmp_trial'] = mmp_trial\n",
    "                    df_shap_trial = pd.concat([df_shap_trial_tr, df_shap_trial_te])\n",
    "                    # save df_shap per trial\n",
    "                    df_shap_trial.to_pickle(os.path.join(target_path, f\"df_shap_{model}_{trial}_{mmp_trial}.pkl\"))\n",
    "    \n",
    "                    df_shapL.append(df_shap_trial)\n",
    "                    \n",
    "                    del ml_model, df_shap_trial\n",
    "\n",
    "df_shap = pd.concat(df_shapL)\n",
    "df_shap.to_pickle(os.path.join(results_path, f'df_shap.pkl'))\n",
    "del df_shapL, df_shap"
   ],
   "metadata": {
    "collapsed": false
   },
   "id": "798243e7e7c9575a"
  }
 ],
 "metadata": {
  "kernelspec": {
   "display_name": "Python 3",
   "language": "python",
   "name": "python3"
  },
  "language_info": {
   "codemirror_mode": {
    "name": "ipython",
    "version": 2
   },
   "file_extension": ".py",
   "mimetype": "text/x-python",
   "name": "python",
   "nbconvert_exporter": "python",
   "pygments_lexer": "ipython2",
   "version": "2.7.6"
  }
 },
 "nbformat": 4,
 "nbformat_minor": 5
}
