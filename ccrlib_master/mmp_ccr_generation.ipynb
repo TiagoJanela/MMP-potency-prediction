{
 "cells": [
  {
   "cell_type": "markdown",
   "metadata": {},
   "source": [
    "## Import libraries"
   ]
  },
  {
   "cell_type": "code",
   "execution_count": 1,
   "outputs": [],
   "source": [
    "%load_ext autoreload"
   ],
   "metadata": {
    "collapsed": false,
    "ExecuteTime": {
     "end_time": "2023-09-19T10:08:09.815964100Z",
     "start_time": "2023-09-19T10:08:09.765160200Z"
    }
   }
  },
  {
   "cell_type": "code",
   "execution_count": 2,
   "metadata": {
    "pycharm": {
     "is_executing": false
    },
    "ExecuteTime": {
     "end_time": "2023-09-19T10:08:13.232913900Z",
     "start_time": "2023-09-19T10:08:09.815964100Z"
    }
   },
   "outputs": [],
   "source": [
    "from rdkit.Chem import Descriptors\n",
    "import pandas as pd\n",
    "from utils_mmp import get_mms\n",
    "%autoreload 2"
   ]
  },
  {
   "cell_type": "code",
   "execution_count": 3,
   "metadata": {
    "ExecuteTime": {
     "end_time": "2023-09-19T10:08:13.353803400Z",
     "start_time": "2023-09-19T10:08:13.232913900Z"
    }
   },
   "outputs": [],
   "source": [
    "import logging\n",
    "logging.basicConfig()\n",
    "root_logger = logging.getLogger()\n",
    "root_logger.setLevel(logging.WARN)"
   ]
  },
  {
   "cell_type": "code",
   "execution_count": 4,
   "metadata": {
    "pycharm": {
     "is_executing": false
    },
    "ExecuteTime": {
     "end_time": "2023-09-19T10:08:13.505156500Z",
     "start_time": "2023-09-19T10:08:13.353803400Z"
    }
   },
   "outputs": [],
   "source": [
    "from ccrlib import *\n",
    "from ccrlib.fragmentation import *\n",
    "logger.setLevel(logging.WARN)"
   ]
  },
  {
   "cell_type": "markdown",
   "source": [
    "## Load data"
   ],
   "metadata": {
    "collapsed": false
   }
  },
  {
   "cell_type": "code",
   "execution_count": 5,
   "metadata": {
    "ExecuteTime": {
     "end_time": "2023-09-19T10:08:13.640353600Z",
     "start_time": "2023-09-19T10:08:13.497082300Z"
    }
   },
   "outputs": [
    {
     "data": {
      "text/plain": "                                                  smiles standard_type  \\\n0                            Brc1cc2c(NCc3ccccc3)ncnc2s1          IC50   \n1                            Brc1cc2c(NCc3ccccn3)ncnc2s1          IC50   \n2                             Brc1cc2c(NCc3cccs3)ncnc2s1          IC50   \n3                            Brc1cc2c(NCc3ccncc3)ncnc2s1          IC50   \n4                             Brc1cc2c(Nc3ccccc3)ncnc2s1          IC50   \n...                                                  ...           ...   \n16524                   c1csc(-c2n[nH]c3c2Cc2ccccc2-3)c1          IC50   \n16525  c1ncc(-c2cc3c(cn2)[nH]c2ncc(-c4ccc(CN5CCCCC5)c...          IC50   \n16526  c1ncc(-c2cc3c(cn2)[nH]c2ncc(-c4ccc(CN5CCCCC5)c...          IC50   \n16527  c1ncc(-c2cc3c(cn2)[nH]c2ncc(-c4ccc(CN5CCCCC5)c...          IC50   \n16528  c1nnc(-c2cc3c(cn2)[nH]c2ncc(-c4ccc(CN5CCCCC5)c...          IC50   \n\n           pPot            cid  tid  \n0      6.617983  CHEMBL3416599  203  \n1      5.102153  CHEMBL3416616  203  \n2      5.862013  CHEMBL3416619  203  \n3      5.410833  CHEMBL3416614  203  \n4      7.096910  CHEMBL3416621  203  \n...         ...            ...  ...  \n16524  6.031517   CHEMBL212899  279  \n16525  6.575118  CHEMBL3582232  220  \n16526  6.490797  CHEMBL3582223  220  \n16527  6.304518  CHEMBL3582224  220  \n16528  6.346787  CHEMBL3582225  220  \n\n[16529 rows x 5 columns]",
      "text/html": "<div>\n<style scoped>\n    .dataframe tbody tr th:only-of-type {\n        vertical-align: middle;\n    }\n\n    .dataframe tbody tr th {\n        vertical-align: top;\n    }\n\n    .dataframe thead th {\n        text-align: right;\n    }\n</style>\n<table border=\"1\" class=\"dataframe\">\n  <thead>\n    <tr style=\"text-align: right;\">\n      <th></th>\n      <th>smiles</th>\n      <th>standard_type</th>\n      <th>pPot</th>\n      <th>cid</th>\n      <th>tid</th>\n    </tr>\n  </thead>\n  <tbody>\n    <tr>\n      <th>0</th>\n      <td>Brc1cc2c(NCc3ccccc3)ncnc2s1</td>\n      <td>IC50</td>\n      <td>6.617983</td>\n      <td>CHEMBL3416599</td>\n      <td>203</td>\n    </tr>\n    <tr>\n      <th>1</th>\n      <td>Brc1cc2c(NCc3ccccn3)ncnc2s1</td>\n      <td>IC50</td>\n      <td>5.102153</td>\n      <td>CHEMBL3416616</td>\n      <td>203</td>\n    </tr>\n    <tr>\n      <th>2</th>\n      <td>Brc1cc2c(NCc3cccs3)ncnc2s1</td>\n      <td>IC50</td>\n      <td>5.862013</td>\n      <td>CHEMBL3416619</td>\n      <td>203</td>\n    </tr>\n    <tr>\n      <th>3</th>\n      <td>Brc1cc2c(NCc3ccncc3)ncnc2s1</td>\n      <td>IC50</td>\n      <td>5.410833</td>\n      <td>CHEMBL3416614</td>\n      <td>203</td>\n    </tr>\n    <tr>\n      <th>4</th>\n      <td>Brc1cc2c(Nc3ccccc3)ncnc2s1</td>\n      <td>IC50</td>\n      <td>7.096910</td>\n      <td>CHEMBL3416621</td>\n      <td>203</td>\n    </tr>\n    <tr>\n      <th>...</th>\n      <td>...</td>\n      <td>...</td>\n      <td>...</td>\n      <td>...</td>\n      <td>...</td>\n    </tr>\n    <tr>\n      <th>16524</th>\n      <td>c1csc(-c2n[nH]c3c2Cc2ccccc2-3)c1</td>\n      <td>IC50</td>\n      <td>6.031517</td>\n      <td>CHEMBL212899</td>\n      <td>279</td>\n    </tr>\n    <tr>\n      <th>16525</th>\n      <td>c1ncc(-c2cc3c(cn2)[nH]c2ncc(-c4ccc(CN5CCCCC5)c...</td>\n      <td>IC50</td>\n      <td>6.575118</td>\n      <td>CHEMBL3582232</td>\n      <td>220</td>\n    </tr>\n    <tr>\n      <th>16526</th>\n      <td>c1ncc(-c2cc3c(cn2)[nH]c2ncc(-c4ccc(CN5CCCCC5)c...</td>\n      <td>IC50</td>\n      <td>6.490797</td>\n      <td>CHEMBL3582223</td>\n      <td>220</td>\n    </tr>\n    <tr>\n      <th>16527</th>\n      <td>c1ncc(-c2cc3c(cn2)[nH]c2ncc(-c4ccc(CN5CCCCC5)c...</td>\n      <td>IC50</td>\n      <td>6.304518</td>\n      <td>CHEMBL3582224</td>\n      <td>220</td>\n    </tr>\n    <tr>\n      <th>16528</th>\n      <td>c1nnc(-c2cc3c(cn2)[nH]c2ncc(-c4ccc(CN5CCCCC5)c...</td>\n      <td>IC50</td>\n      <td>6.346787</td>\n      <td>CHEMBL3582225</td>\n      <td>220</td>\n    </tr>\n  </tbody>\n</table>\n<p>16529 rows × 5 columns</p>\n</div>"
     },
     "metadata": {},
     "output_type": "display_data"
    }
   ],
   "source": [
    "chembl_high_conf_tids = pd.read_csv(\"./../dataset/chembl_33_pIC50.csv\").rename(columns={'nonstereo_aromatic_smiles': 'smiles'})\n",
    "display(chembl_high_conf_tids)"
   ]
  },
  {
   "cell_type": "code",
   "execution_count": 7,
   "outputs": [
    {
     "data": {
      "text/plain": "tid\n279     2475\n325     1990\n220     1898\n203     1586\n4005    1534\n260     1495\n1865    1494\n2409    1410\n284     1359\n3717    1288\nName: count, dtype: int64"
     },
     "execution_count": 7,
     "metadata": {},
     "output_type": "execute_result"
    }
   ],
   "source": [
    "chembl_high_conf_tids.tid.value_counts()"
   ],
   "metadata": {
    "collapsed": false,
    "ExecuteTime": {
     "end_time": "2023-09-19T10:13:22.018486200Z",
     "start_time": "2023-09-19T10:13:21.893754600Z"
    }
   }
  },
  {
   "cell_type": "markdown",
   "metadata": {},
   "source": [
    "#### Relevant parameters"
   ]
  },
  {
   "cell_type": "code",
   "execution_count": 9,
   "metadata": {
    "pycharm": {
     "is_executing": false
    },
    "ExecuteTime": {
     "end_time": "2023-09-18T09:40:21.426954700Z",
     "start_time": "2023-09-18T09:40:21.258443900Z"
    }
   },
   "outputs": [],
   "source": [
    "cut_type= \"synthesizable\"\n",
    "max_cuts = 1\n",
    "min_rel_core_size=0.666\n",
    "max_frag_size = 13\n",
    "max_time=100\n",
    "mol_filter = lambda x: Descriptors.MolWt(x)<=1000"
   ]
  },
  {
   "cell_type": "markdown",
   "metadata": {},
   "source": [
    "## MMP Generation"
   ]
  },
  {
   "cell_type": "code",
   "execution_count": 10,
   "metadata": {
    "ExecuteTime": {
     "end_time": "2023-09-18T09:40:22.695858Z",
     "start_time": "2023-09-18T09:40:22.552602100Z"
    }
   },
   "outputs": [],
   "source": [
    "max_xch_difference = 8 # Set to -1 to ignore"
   ]
  },
  {
   "cell_type": "markdown",
   "source": [
    "# Generate MMPs and save "
   ],
   "metadata": {
    "collapsed": false
   }
  },
  {
   "cell_type": "code",
   "execution_count": 11,
   "outputs": [
    {
     "name": "stdout",
     "output_type": "stream",
     "text": [
      "203\n",
      "# smiles: 1586\n",
      "# duplicates: 0\n",
      "# discarded molecules: 0\n",
      "Cuts\n",
      "# frames: 3488\n",
      "# cuts:  4722\n",
      "Time:  1.4952476024627686\n",
      "FPS:  3158.00539805084\n",
      "Raw MMS\n",
      "# frames: 536\n",
      "# cpds:  1770\n",
      "MMPs\n",
      "# MMPs: 3100\n",
      "MMS\n",
      "# frames: 355\n",
      "# cpds:  1294\n",
      "Verification okay\n",
      "Verification okay\n"
     ]
    }
   ],
   "source": [
    "for tid in chembl_high_conf_tids.tid.unique()[:]:\n",
    "\n",
    "    print(tid)\n",
    "    df_tid = chembl_high_conf_tids.loc[chembl_high_conf_tids.tid == tid][['smiles', 'cid', 'tid']]\n",
    "    #df_tid.to_csv(f\"./mmp_results/chembl_33_IC50_{tid}.tsv\", sep='\\t', columns=['smiles', 'cid', 'tid'], index=False)\n",
    "    #display(df_tid)\n",
    "    suppl = Chem.SmilesMolSupplier(f\"./mmp_results/chembl_33_IC50_{tid}.tsv\", delimiter='\\t', smilesColumn=0, nameColumn=1)\n",
    "    mmp_result = run_mmp(suppl, cut_type, max_cuts, min_rel_core_size,\n",
    "                         max_frag_size, max_xch_difference, max_time,mol_filter, basename= None)\n",
    "\n",
    "\n",
    "    print(\"Verification \" + (\"okay\" if verify_series(mmp_result.mms, mmp_result.smiles) else \"failed\"))\n",
    "    print(\"Verification \" + (\"okay\" if verify_mmps(mmp_result.mmps, mmp_result.smiles) else \"failed\"))\n",
    "    \n",
    "    df_mms = get_mms(mmp_result)\n",
    "    #df_mms.to_csv(f\"./mmp_results/df_mmp_{tid}.csv\", index=False)"
   ],
   "metadata": {
    "collapsed": false,
    "ExecuteTime": {
     "end_time": "2023-09-18T09:40:32.569812Z",
     "start_time": "2023-09-18T09:40:24.405255200Z"
    }
   }
  }
 ],
 "metadata": {
  "kernelspec": {
   "display_name": "Python 3 (ipykernel)",
   "language": "python",
   "name": "python3"
  },
  "language_info": {
   "codemirror_mode": {
    "name": "ipython",
    "version": 3
   },
   "file_extension": ".py",
   "mimetype": "text/x-python",
   "name": "python",
   "nbconvert_exporter": "python",
   "pygments_lexer": "ipython3",
   "version": "3.10.5"
  },
  "pycharm": {
   "stem_cell": {
    "cell_type": "raw",
    "metadata": {
     "collapsed": false
    },
    "source": []
   }
  }
 },
 "nbformat": 4,
 "nbformat_minor": 4
}
