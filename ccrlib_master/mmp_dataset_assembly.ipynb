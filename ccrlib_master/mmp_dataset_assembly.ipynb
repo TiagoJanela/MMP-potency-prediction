{
 "cells": [
  {
   "cell_type": "markdown",
   "source": [
    "# Import libraries"
   ],
   "metadata": {
    "collapsed": false
   },
   "id": "b0d0bf6a4bdcdade"
  },
  {
   "cell_type": "code",
   "execution_count": 1,
   "id": "initial_id",
   "metadata": {
    "collapsed": true,
    "ExecuteTime": {
     "end_time": "2023-09-19T09:05:46.646567600Z",
     "start_time": "2023-09-19T09:05:46.587802100Z"
    }
   },
   "outputs": [],
   "source": [
    "%load_ext autoreload"
   ]
  },
  {
   "cell_type": "code",
   "execution_count": 2,
   "outputs": [],
   "source": [
    "import pandas as pd\n",
    "from utils_mmp import get_df_mmp, get_delta_potency, get_similarity, get_unique_mmps\n",
    "%autoreload 2"
   ],
   "metadata": {
    "collapsed": false,
    "ExecuteTime": {
     "end_time": "2023-09-19T09:05:55.080854600Z",
     "start_time": "2023-09-19T09:05:52.546352700Z"
    }
   },
   "id": "5a00c4e785b3efa7"
  },
  {
   "cell_type": "markdown",
   "source": [
    "# Load compound data"
   ],
   "metadata": {
    "collapsed": false
   },
   "id": "3b11eac156429ecb"
  },
  {
   "cell_type": "code",
   "execution_count": 3,
   "outputs": [
    {
     "data": {
      "text/plain": "                                                  smiles standard_type  \\\n0                            Brc1cc2c(NCc3ccccc3)ncnc2s1          IC50   \n1                            Brc1cc2c(NCc3ccccn3)ncnc2s1          IC50   \n2                             Brc1cc2c(NCc3cccs3)ncnc2s1          IC50   \n3                            Brc1cc2c(NCc3ccncc3)ncnc2s1          IC50   \n4                             Brc1cc2c(Nc3ccccc3)ncnc2s1          IC50   \n...                                                  ...           ...   \n16524                   c1csc(-c2n[nH]c3c2Cc2ccccc2-3)c1          IC50   \n16525  c1ncc(-c2cc3c(cn2)[nH]c2ncc(-c4ccc(CN5CCCCC5)c...          IC50   \n16526  c1ncc(-c2cc3c(cn2)[nH]c2ncc(-c4ccc(CN5CCCCC5)c...          IC50   \n16527  c1ncc(-c2cc3c(cn2)[nH]c2ncc(-c4ccc(CN5CCCCC5)c...          IC50   \n16528  c1nnc(-c2cc3c(cn2)[nH]c2ncc(-c4ccc(CN5CCCCC5)c...          IC50   \n\n           pPot            cid  tid  \n0      6.617983  CHEMBL3416599  203  \n1      5.102153  CHEMBL3416616  203  \n2      5.862013  CHEMBL3416619  203  \n3      5.410833  CHEMBL3416614  203  \n4      7.096910  CHEMBL3416621  203  \n...         ...            ...  ...  \n16524  6.031517   CHEMBL212899  279  \n16525  6.575118  CHEMBL3582232  220  \n16526  6.490797  CHEMBL3582223  220  \n16527  6.304518  CHEMBL3582224  220  \n16528  6.346787  CHEMBL3582225  220  \n\n[16529 rows x 5 columns]",
      "text/html": "<div>\n<style scoped>\n    .dataframe tbody tr th:only-of-type {\n        vertical-align: middle;\n    }\n\n    .dataframe tbody tr th {\n        vertical-align: top;\n    }\n\n    .dataframe thead th {\n        text-align: right;\n    }\n</style>\n<table border=\"1\" class=\"dataframe\">\n  <thead>\n    <tr style=\"text-align: right;\">\n      <th></th>\n      <th>smiles</th>\n      <th>standard_type</th>\n      <th>pPot</th>\n      <th>cid</th>\n      <th>tid</th>\n    </tr>\n  </thead>\n  <tbody>\n    <tr>\n      <th>0</th>\n      <td>Brc1cc2c(NCc3ccccc3)ncnc2s1</td>\n      <td>IC50</td>\n      <td>6.617983</td>\n      <td>CHEMBL3416599</td>\n      <td>203</td>\n    </tr>\n    <tr>\n      <th>1</th>\n      <td>Brc1cc2c(NCc3ccccn3)ncnc2s1</td>\n      <td>IC50</td>\n      <td>5.102153</td>\n      <td>CHEMBL3416616</td>\n      <td>203</td>\n    </tr>\n    <tr>\n      <th>2</th>\n      <td>Brc1cc2c(NCc3cccs3)ncnc2s1</td>\n      <td>IC50</td>\n      <td>5.862013</td>\n      <td>CHEMBL3416619</td>\n      <td>203</td>\n    </tr>\n    <tr>\n      <th>3</th>\n      <td>Brc1cc2c(NCc3ccncc3)ncnc2s1</td>\n      <td>IC50</td>\n      <td>5.410833</td>\n      <td>CHEMBL3416614</td>\n      <td>203</td>\n    </tr>\n    <tr>\n      <th>4</th>\n      <td>Brc1cc2c(Nc3ccccc3)ncnc2s1</td>\n      <td>IC50</td>\n      <td>7.096910</td>\n      <td>CHEMBL3416621</td>\n      <td>203</td>\n    </tr>\n    <tr>\n      <th>...</th>\n      <td>...</td>\n      <td>...</td>\n      <td>...</td>\n      <td>...</td>\n      <td>...</td>\n    </tr>\n    <tr>\n      <th>16524</th>\n      <td>c1csc(-c2n[nH]c3c2Cc2ccccc2-3)c1</td>\n      <td>IC50</td>\n      <td>6.031517</td>\n      <td>CHEMBL212899</td>\n      <td>279</td>\n    </tr>\n    <tr>\n      <th>16525</th>\n      <td>c1ncc(-c2cc3c(cn2)[nH]c2ncc(-c4ccc(CN5CCCCC5)c...</td>\n      <td>IC50</td>\n      <td>6.575118</td>\n      <td>CHEMBL3582232</td>\n      <td>220</td>\n    </tr>\n    <tr>\n      <th>16526</th>\n      <td>c1ncc(-c2cc3c(cn2)[nH]c2ncc(-c4ccc(CN5CCCCC5)c...</td>\n      <td>IC50</td>\n      <td>6.490797</td>\n      <td>CHEMBL3582223</td>\n      <td>220</td>\n    </tr>\n    <tr>\n      <th>16527</th>\n      <td>c1ncc(-c2cc3c(cn2)[nH]c2ncc(-c4ccc(CN5CCCCC5)c...</td>\n      <td>IC50</td>\n      <td>6.304518</td>\n      <td>CHEMBL3582224</td>\n      <td>220</td>\n    </tr>\n    <tr>\n      <th>16528</th>\n      <td>c1nnc(-c2cc3c(cn2)[nH]c2ncc(-c4ccc(CN5CCCCC5)c...</td>\n      <td>IC50</td>\n      <td>6.346787</td>\n      <td>CHEMBL3582225</td>\n      <td>220</td>\n    </tr>\n  </tbody>\n</table>\n<p>16529 rows × 5 columns</p>\n</div>"
     },
     "metadata": {},
     "output_type": "display_data"
    }
   ],
   "source": [
    "chembl_high_conf_tids = pd.read_csv(\"./../dataset/chembl_33_pIC50.csv\").rename(columns={'nonstereo_aromatic_smiles': 'smiles'})\n",
    "display(chembl_high_conf_tids)"
   ],
   "metadata": {
    "collapsed": false,
    "ExecuteTime": {
     "end_time": "2023-09-19T09:05:55.394851500Z",
     "start_time": "2023-09-19T09:05:55.149915Z"
    }
   },
   "id": "9c1671aa32f2b516"
  },
  {
   "cell_type": "markdown",
   "source": [
    "# Load MMP data and generate MMP datasets for each target"
   ],
   "metadata": {
    "collapsed": false
   },
   "id": "3284091d8ff2291"
  },
  {
   "cell_type": "code",
   "execution_count": null,
   "outputs": [],
   "source": [
    "df_mmp_final = pd.DataFrame()\n",
    "for tid in chembl_high_conf_tids.tid.unique()[:10]:\n",
    "\n",
    "    df_mms_tid = pd.read_csv(f\"./mmp_results/top10/df_mmp_{tid}.csv\")\n",
    "    #display(df_mms_tid)\n",
    "\n",
    "    for trial in range(10):\n",
    "        mms_final = get_unique_mmps(df_mms_tid, random_state=trial)\n",
    "        mmp_unique_final = get_df_mmp(mms_final, random_state=trial).reset_index()\n",
    "        mmp_unique_final['tid'] = tid\n",
    "        mmp_unique_final['mmp_id'] = [x for x in range(len(mmp_unique_final))]\n",
    "        mmp_unique_final['dpot'] = mmp_unique_final.apply(lambda x: get_delta_potency(chembl_high_conf_tids, x.cid_1, x.cid_2, x.tid), axis=1)\n",
    "        mmp_unique_final['similarity'] = mmp_unique_final.apply(lambda x: get_similarity(chembl_high_conf_tids, x.cid_1, x.cid_2, x.tid), axis=1)\n",
    "        mmp_unique_final['mmp_trial'] = trial\n",
    "        df_mmp_final = pd.concat([df_mmp_final, mmp_unique_final])\n",
    "        \n",
    "df_mmp_final.to_csv(\"./df_mmp_folder/df_mmp_final.csv\", index=False)"
   ],
   "metadata": {
    "collapsed": false
   },
   "id": "b199b68131d1dbee"
  },
  {
   "cell_type": "markdown",
   "source": [
    "# Check if there are any MMP compound duplicates"
   ],
   "metadata": {
    "collapsed": false
   },
   "id": "73a96149e598a93c"
  },
  {
   "cell_type": "code",
   "execution_count": 8,
   "outputs": [],
   "source": [
    "for tid in df_mmp_final.tid.unique():\n",
    "    df_tid = df_mmp_final.query(f'tid == {tid}')\n",
    "    for t in range(10):\n",
    "        df_tid_t = df_tid.query(f'mmp_trial == {t}')\n",
    "        for i in df_tid_t.cid_1.tolist():\n",
    "            if i in df_tid_t.cid_2.tolist():\n",
    "                print(i)\n",
    "        for x in df_tid_t.cid_2.tolist():\n",
    "            if x in df_tid_t.cid_1.tolist():\n",
    "                print(x)"
   ],
   "metadata": {
    "collapsed": false,
    "ExecuteTime": {
     "end_time": "2023-09-18T09:54:52.042898200Z",
     "start_time": "2023-09-18T09:54:50.380832500Z"
    }
   },
   "id": "cc8aa94769ca5cfa"
  }
 ],
 "metadata": {
  "kernelspec": {
   "display_name": "Python 3",
   "language": "python",
   "name": "python3"
  },
  "language_info": {
   "codemirror_mode": {
    "name": "ipython",
    "version": 2
   },
   "file_extension": ".py",
   "mimetype": "text/x-python",
   "name": "python",
   "nbconvert_exporter": "python",
   "pygments_lexer": "ipython2",
   "version": "2.7.6"
  }
 },
 "nbformat": 4,
 "nbformat_minor": 5
}
