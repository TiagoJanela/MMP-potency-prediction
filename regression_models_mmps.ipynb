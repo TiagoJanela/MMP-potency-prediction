{
 "cells": [
  {
   "cell_type": "markdown",
   "source": [
    "## Regression MMP"
   ],
   "metadata": {
    "collapsed": false
   },
   "id": "39dac85f085e828"
  },
  {
   "cell_type": "code",
   "execution_count": 1,
   "id": "initial_id",
   "metadata": {
    "collapsed": true,
    "ExecuteTime": {
     "end_time": "2023-09-20T09:40:57.601340300Z",
     "start_time": "2023-09-20T09:40:57.566591300Z"
    }
   },
   "outputs": [],
   "source": [
    "%load_ext autoreload"
   ]
  },
  {
   "cell_type": "markdown",
   "source": [
    "### Import libraries"
   ],
   "metadata": {
    "collapsed": false
   },
   "id": "7ac9ea30e6b30133"
  },
  {
   "cell_type": "code",
   "execution_count": 2,
   "outputs": [],
   "source": [
    "import os \n",
    "from ML.machine_learning_models import *\n",
    "from ML.machine_learning_models import Model_Evaluation as ml_evaluation\n",
    "from ML.data_preprocessing import Dataset\n",
    "from ML.ml_utils_reg import create_directory, ECFP4, set_global_determinism\n",
    "from ML.data_utils import *\n",
    "import joblib\n",
    "%autoreload 2"
   ],
   "metadata": {
    "collapsed": false,
    "ExecuteTime": {
     "end_time": "2023-09-20T09:41:02.789427Z",
     "start_time": "2023-09-20T09:40:57.601340300Z"
    }
   },
   "id": "cbadf77a6d2a5f9c"
  },
  {
   "cell_type": "markdown",
   "source": [
    "### Parameters"
   ],
   "metadata": {
    "collapsed": false
   },
   "id": "6f1d8858c284b166"
  },
  {
   "cell_type": "code",
   "execution_count": 9,
   "outputs": [],
   "source": [
    "# parameters\n",
    "# ML models\n",
    "model_list = ['1-NN', 'kNN', 'SVR','RFR','MR']\n",
    "# Train test split trials\n",
    "trial_splits = 10\n",
    "# MMP datasets trials\n",
    "mmp_trials = 10\n",
    "# fingerprint\n",
    "fingerprint = 'ECFP4'\n",
    "# approach\n",
    "approach = 'regression'"
   ],
   "metadata": {
    "collapsed": false,
    "ExecuteTime": {
     "end_time": "2023-09-20T09:43:20.250553700Z",
     "start_time": "2023-09-20T09:43:20.129554900Z"
    }
   },
   "id": "6db94a435d3c7a09"
  },
  {
   "cell_type": "markdown",
   "source": [
    "### Load dataset"
   ],
   "metadata": {
    "collapsed": false
   },
   "id": "cab2ecb16964b148"
  },
  {
   "cell_type": "code",
   "execution_count": 14,
   "outputs": [],
   "source": [
    "# dataset path\n",
    "db_path = \"./dataset/\"\n",
    "main_folder = \"./regression_mmp/\"\n",
    "results_path = f'./{main_folder}/{fingerprint}/{approach}/'"
   ],
   "metadata": {
    "collapsed": false,
    "ExecuteTime": {
     "end_time": "2023-09-20T09:49:02.473558800Z",
     "start_time": "2023-09-20T09:49:02.335546300Z"
    }
   },
   "id": "64edda20c5d3b1f3"
  },
  {
   "cell_type": "code",
   "execution_count": 11,
   "outputs": [
    {
     "data": {
      "text/plain": "                                                  smiles standard_type  \\\n0                            Brc1cc2c(NCc3ccccc3)ncnc2s1          IC50   \n1                            Brc1cc2c(NCc3ccccn3)ncnc2s1          IC50   \n2                             Brc1cc2c(NCc3cccs3)ncnc2s1          IC50   \n3                            Brc1cc2c(NCc3ccncc3)ncnc2s1          IC50   \n4                             Brc1cc2c(Nc3ccccc3)ncnc2s1          IC50   \n...                                                  ...           ...   \n16524                   c1csc(-c2n[nH]c3c2Cc2ccccc2-3)c1          IC50   \n16525  c1ncc(-c2cc3c(cn2)[nH]c2ncc(-c4ccc(CN5CCCCC5)c...          IC50   \n16526  c1ncc(-c2cc3c(cn2)[nH]c2ncc(-c4ccc(CN5CCCCC5)c...          IC50   \n16527  c1ncc(-c2cc3c(cn2)[nH]c2ncc(-c4ccc(CN5CCCCC5)c...          IC50   \n16528  c1nnc(-c2cc3c(cn2)[nH]c2ncc(-c4ccc(CN5CCCCC5)c...          IC50   \n\n           pPot            cid  tid  \n0      6.617983  CHEMBL3416599  203  \n1      5.102153  CHEMBL3416616  203  \n2      5.862013  CHEMBL3416619  203  \n3      5.410833  CHEMBL3416614  203  \n4      7.096910  CHEMBL3416621  203  \n...         ...            ...  ...  \n16524  6.031517   CHEMBL212899  279  \n16525  6.575118  CHEMBL3582232  220  \n16526  6.490797  CHEMBL3582223  220  \n16527  6.304518  CHEMBL3582224  220  \n16528  6.346787  CHEMBL3582225  220  \n\n[16529 rows x 5 columns]",
      "text/html": "<div>\n<style scoped>\n    .dataframe tbody tr th:only-of-type {\n        vertical-align: middle;\n    }\n\n    .dataframe tbody tr th {\n        vertical-align: top;\n    }\n\n    .dataframe thead th {\n        text-align: right;\n    }\n</style>\n<table border=\"1\" class=\"dataframe\">\n  <thead>\n    <tr style=\"text-align: right;\">\n      <th></th>\n      <th>smiles</th>\n      <th>standard_type</th>\n      <th>pPot</th>\n      <th>cid</th>\n      <th>tid</th>\n    </tr>\n  </thead>\n  <tbody>\n    <tr>\n      <th>0</th>\n      <td>Brc1cc2c(NCc3ccccc3)ncnc2s1</td>\n      <td>IC50</td>\n      <td>6.617983</td>\n      <td>CHEMBL3416599</td>\n      <td>203</td>\n    </tr>\n    <tr>\n      <th>1</th>\n      <td>Brc1cc2c(NCc3ccccn3)ncnc2s1</td>\n      <td>IC50</td>\n      <td>5.102153</td>\n      <td>CHEMBL3416616</td>\n      <td>203</td>\n    </tr>\n    <tr>\n      <th>2</th>\n      <td>Brc1cc2c(NCc3cccs3)ncnc2s1</td>\n      <td>IC50</td>\n      <td>5.862013</td>\n      <td>CHEMBL3416619</td>\n      <td>203</td>\n    </tr>\n    <tr>\n      <th>3</th>\n      <td>Brc1cc2c(NCc3ccncc3)ncnc2s1</td>\n      <td>IC50</td>\n      <td>5.410833</td>\n      <td>CHEMBL3416614</td>\n      <td>203</td>\n    </tr>\n    <tr>\n      <th>4</th>\n      <td>Brc1cc2c(Nc3ccccc3)ncnc2s1</td>\n      <td>IC50</td>\n      <td>7.096910</td>\n      <td>CHEMBL3416621</td>\n      <td>203</td>\n    </tr>\n    <tr>\n      <th>...</th>\n      <td>...</td>\n      <td>...</td>\n      <td>...</td>\n      <td>...</td>\n      <td>...</td>\n    </tr>\n    <tr>\n      <th>16524</th>\n      <td>c1csc(-c2n[nH]c3c2Cc2ccccc2-3)c1</td>\n      <td>IC50</td>\n      <td>6.031517</td>\n      <td>CHEMBL212899</td>\n      <td>279</td>\n    </tr>\n    <tr>\n      <th>16525</th>\n      <td>c1ncc(-c2cc3c(cn2)[nH]c2ncc(-c4ccc(CN5CCCCC5)c...</td>\n      <td>IC50</td>\n      <td>6.575118</td>\n      <td>CHEMBL3582232</td>\n      <td>220</td>\n    </tr>\n    <tr>\n      <th>16526</th>\n      <td>c1ncc(-c2cc3c(cn2)[nH]c2ncc(-c4ccc(CN5CCCCC5)c...</td>\n      <td>IC50</td>\n      <td>6.490797</td>\n      <td>CHEMBL3582223</td>\n      <td>220</td>\n    </tr>\n    <tr>\n      <th>16527</th>\n      <td>c1ncc(-c2cc3c(cn2)[nH]c2ncc(-c4ccc(CN5CCCCC5)c...</td>\n      <td>IC50</td>\n      <td>6.304518</td>\n      <td>CHEMBL3582224</td>\n      <td>220</td>\n    </tr>\n    <tr>\n      <th>16528</th>\n      <td>c1nnc(-c2cc3c(cn2)[nH]c2ncc(-c4ccc(CN5CCCCC5)c...</td>\n      <td>IC50</td>\n      <td>6.346787</td>\n      <td>CHEMBL3582225</td>\n      <td>220</td>\n    </tr>\n  </tbody>\n</table>\n<p>16529 rows × 5 columns</p>\n</div>"
     },
     "execution_count": 11,
     "metadata": {},
     "output_type": "execute_result"
    }
   ],
   "source": [
    "df_regression = pd.read_csv(db_path + \"chembl_33_pIC50.csv\")\n",
    "df_regression"
   ],
   "metadata": {
    "collapsed": false,
    "ExecuteTime": {
     "end_time": "2023-09-20T09:43:21.089802600Z",
     "start_time": "2023-09-20T09:43:20.913224800Z"
    }
   },
   "id": "e75b80996fceb1be"
  },
  {
   "cell_type": "markdown",
   "source": [
    "### Load MMP datasets"
   ],
   "metadata": {
    "collapsed": false
   },
   "id": "eb67ca9c69f465ee"
  },
  {
   "cell_type": "code",
   "execution_count": 12,
   "outputs": [
    {
     "data": {
      "text/plain": "                                                    core   as  \\\n0                COc1cc(Nc2ncnc3cc([*:1])sc23)cc(OC)c1OC  253   \n1                COc1cc(Nc2ncnc3cc([*:1])sc23)cc(OC)c1OC  253   \n2                COc1cc(Nc2ncnc3cc([*:1])sc23)cc(OC)c1OC  253   \n3        COc1cc2ncnc(N3CCCc4ccccc43)c2cc1NC(=O)C=CC[*:1]  135   \n4          Clc1cc(Nc2ncnc3cccc(O[*:1])c23)ccc1OCc1ccccn1  207   \n...                                                  ...  ...   \n45337      O=c1cc(-c2[nH]c([*:1])nc2-c2ccc(F)cc2)cc[nH]1    3   \n45338        Nc1ccccc1Nc1ccc2c(c1)CCc1ccc(O[*:1])cc1C2=O   73   \n45339  O=C1NCc2c(-c3ccccc3Cl)nc(O[*:1])nc2N1c1c(Cl)cc...  144   \n45340         O=C1c2ccc(Nc3ccccc3)cc2CCc2ccc(O[*:1])cc21  200   \n45341          Cc1ccc(C(=O)NC2CC2)cc1Nc1nncc2c1cnn2[*:1]  249   \n\n                       sub_1                        cid_1               sub_2  \\\n0            c1ccc([*:1])cc1                CHEMBL4541014   Brc1ccc([*:1])cc1   \n1           Ic1ccc([*:1])cc1                CHEMBL4473768   COc1ccc([*:1])cc1   \n2             c1csc([*:1])c1                CHEMBL4460381   Clc1ccc([*:1])cc1   \n3                 CN(C)[*:1]                CHEMBL4176787             CC[*:1]   \n4                     C[*:1]                 CHEMBL194389     C1CC([*:1])CCO1   \n...                      ...                          ...                 ...   \n45337  O=C(O)c1ccc([*:1])cc1                CHEMBL3313935  C#Cc1ccc([*:1])cc1   \n45338           OCC(O)C[*:1]  CHEMBL2152936_CHEMBL2152938              C[*:1]   \n45339           CN(C)CC[*:1]                 CHEMBL211426               [*:1]   \n45340                 C[*:1]                CHEMBL2152784               [*:1]   \n45341      Fc1cccc(F)c1[*:1]                CHEMBL1081991    Fc1cccc([*:1])c1   \n\n               cid_2  tid  mmp_id      dpot  similarity  mmp_trial  \n0      CHEMBL4572443  203       0  1.151490    0.800000          0  \n1      CHEMBL4546122  203       1  0.716003    0.820000          0  \n2      CHEMBL4552482  203       2  2.038223    0.685185          0  \n3      CHEMBL4162530  203       3  0.338819    0.814286          0  \n4       CHEMBL193578  203       4  0.736759    0.718750          0  \n...              ...  ...     ...       ...         ...        ...  \n45337  CHEMBL3314276  260     475  0.504318    0.692308          9  \n45338  CHEMBL2152777  260     476  1.364568    0.677966          9  \n45339   CHEMBL213846  260     477  0.021189    0.616667          9  \n45340  CHEMBL2152796  260     478  0.162727    0.673913          9  \n45341  CHEMBL1087386  260     479  0.432309    0.791045          9  \n\n[45342 rows x 11 columns]",
      "text/html": "<div>\n<style scoped>\n    .dataframe tbody tr th:only-of-type {\n        vertical-align: middle;\n    }\n\n    .dataframe tbody tr th {\n        vertical-align: top;\n    }\n\n    .dataframe thead th {\n        text-align: right;\n    }\n</style>\n<table border=\"1\" class=\"dataframe\">\n  <thead>\n    <tr style=\"text-align: right;\">\n      <th></th>\n      <th>core</th>\n      <th>as</th>\n      <th>sub_1</th>\n      <th>cid_1</th>\n      <th>sub_2</th>\n      <th>cid_2</th>\n      <th>tid</th>\n      <th>mmp_id</th>\n      <th>dpot</th>\n      <th>similarity</th>\n      <th>mmp_trial</th>\n    </tr>\n  </thead>\n  <tbody>\n    <tr>\n      <th>0</th>\n      <td>COc1cc(Nc2ncnc3cc([*:1])sc23)cc(OC)c1OC</td>\n      <td>253</td>\n      <td>c1ccc([*:1])cc1</td>\n      <td>CHEMBL4541014</td>\n      <td>Brc1ccc([*:1])cc1</td>\n      <td>CHEMBL4572443</td>\n      <td>203</td>\n      <td>0</td>\n      <td>1.151490</td>\n      <td>0.800000</td>\n      <td>0</td>\n    </tr>\n    <tr>\n      <th>1</th>\n      <td>COc1cc(Nc2ncnc3cc([*:1])sc23)cc(OC)c1OC</td>\n      <td>253</td>\n      <td>Ic1ccc([*:1])cc1</td>\n      <td>CHEMBL4473768</td>\n      <td>COc1ccc([*:1])cc1</td>\n      <td>CHEMBL4546122</td>\n      <td>203</td>\n      <td>1</td>\n      <td>0.716003</td>\n      <td>0.820000</td>\n      <td>0</td>\n    </tr>\n    <tr>\n      <th>2</th>\n      <td>COc1cc(Nc2ncnc3cc([*:1])sc23)cc(OC)c1OC</td>\n      <td>253</td>\n      <td>c1csc([*:1])c1</td>\n      <td>CHEMBL4460381</td>\n      <td>Clc1ccc([*:1])cc1</td>\n      <td>CHEMBL4552482</td>\n      <td>203</td>\n      <td>2</td>\n      <td>2.038223</td>\n      <td>0.685185</td>\n      <td>0</td>\n    </tr>\n    <tr>\n      <th>3</th>\n      <td>COc1cc2ncnc(N3CCCc4ccccc43)c2cc1NC(=O)C=CC[*:1]</td>\n      <td>135</td>\n      <td>CN(C)[*:1]</td>\n      <td>CHEMBL4176787</td>\n      <td>CC[*:1]</td>\n      <td>CHEMBL4162530</td>\n      <td>203</td>\n      <td>3</td>\n      <td>0.338819</td>\n      <td>0.814286</td>\n      <td>0</td>\n    </tr>\n    <tr>\n      <th>4</th>\n      <td>Clc1cc(Nc2ncnc3cccc(O[*:1])c23)ccc1OCc1ccccn1</td>\n      <td>207</td>\n      <td>C[*:1]</td>\n      <td>CHEMBL194389</td>\n      <td>C1CC([*:1])CCO1</td>\n      <td>CHEMBL193578</td>\n      <td>203</td>\n      <td>4</td>\n      <td>0.736759</td>\n      <td>0.718750</td>\n      <td>0</td>\n    </tr>\n    <tr>\n      <th>...</th>\n      <td>...</td>\n      <td>...</td>\n      <td>...</td>\n      <td>...</td>\n      <td>...</td>\n      <td>...</td>\n      <td>...</td>\n      <td>...</td>\n      <td>...</td>\n      <td>...</td>\n      <td>...</td>\n    </tr>\n    <tr>\n      <th>45337</th>\n      <td>O=c1cc(-c2[nH]c([*:1])nc2-c2ccc(F)cc2)cc[nH]1</td>\n      <td>3</td>\n      <td>O=C(O)c1ccc([*:1])cc1</td>\n      <td>CHEMBL3313935</td>\n      <td>C#Cc1ccc([*:1])cc1</td>\n      <td>CHEMBL3314276</td>\n      <td>260</td>\n      <td>475</td>\n      <td>0.504318</td>\n      <td>0.692308</td>\n      <td>9</td>\n    </tr>\n    <tr>\n      <th>45338</th>\n      <td>Nc1ccccc1Nc1ccc2c(c1)CCc1ccc(O[*:1])cc1C2=O</td>\n      <td>73</td>\n      <td>OCC(O)C[*:1]</td>\n      <td>CHEMBL2152936_CHEMBL2152938</td>\n      <td>C[*:1]</td>\n      <td>CHEMBL2152777</td>\n      <td>260</td>\n      <td>476</td>\n      <td>1.364568</td>\n      <td>0.677966</td>\n      <td>9</td>\n    </tr>\n    <tr>\n      <th>45339</th>\n      <td>O=C1NCc2c(-c3ccccc3Cl)nc(O[*:1])nc2N1c1c(Cl)cc...</td>\n      <td>144</td>\n      <td>CN(C)CC[*:1]</td>\n      <td>CHEMBL211426</td>\n      <td>[*:1]</td>\n      <td>CHEMBL213846</td>\n      <td>260</td>\n      <td>477</td>\n      <td>0.021189</td>\n      <td>0.616667</td>\n      <td>9</td>\n    </tr>\n    <tr>\n      <th>45340</th>\n      <td>O=C1c2ccc(Nc3ccccc3)cc2CCc2ccc(O[*:1])cc21</td>\n      <td>200</td>\n      <td>C[*:1]</td>\n      <td>CHEMBL2152784</td>\n      <td>[*:1]</td>\n      <td>CHEMBL2152796</td>\n      <td>260</td>\n      <td>478</td>\n      <td>0.162727</td>\n      <td>0.673913</td>\n      <td>9</td>\n    </tr>\n    <tr>\n      <th>45341</th>\n      <td>Cc1ccc(C(=O)NC2CC2)cc1Nc1nncc2c1cnn2[*:1]</td>\n      <td>249</td>\n      <td>Fc1cccc(F)c1[*:1]</td>\n      <td>CHEMBL1081991</td>\n      <td>Fc1cccc([*:1])c1</td>\n      <td>CHEMBL1087386</td>\n      <td>260</td>\n      <td>479</td>\n      <td>0.432309</td>\n      <td>0.791045</td>\n      <td>9</td>\n    </tr>\n  </tbody>\n</table>\n<p>45342 rows × 11 columns</p>\n</div>"
     },
     "execution_count": 12,
     "metadata": {},
     "output_type": "execute_result"
    }
   ],
   "source": [
    "mmp_path = \"./ccrlib_master/\"\n",
    "df_mmp = pd.read_csv(mmp_path + \"df_mmp_final_top10.csv\")\n",
    "df_mmp"
   ],
   "metadata": {
    "collapsed": false,
    "ExecuteTime": {
     "end_time": "2023-09-20T09:43:21.585841500Z",
     "start_time": "2023-09-20T09:43:21.363581300Z"
    }
   },
   "id": "7eab2eb865d22a26"
  },
  {
   "cell_type": "code",
   "execution_count": null,
   "outputs": [],
   "source": [
    "performance_test_df = pd.DataFrame()\n",
    "predictions_test_df = pd.DataFrame()\n",
    "performance_train_df = pd.DataFrame()\n",
    "predictions_train_df = pd.DataFrame()\n",
    "df_shap = pd.DataFrame()\n",
    "parameter_resume = []\n",
    "\n",
    "for target in df_mmp.tid.unique()[:]:\n",
    "\n",
    "    target_path = create_directory(f'./{main_folder}/{fingerprint}/{approach}/{target}/')\n",
    "    \n",
    "    print(f\"Target: {target}\")\n",
    "\n",
    "    df_regression_target = df_regression[df_regression.tid == target].reset_index(drop=True)\n",
    "    \n",
    "    for mmp_trial in range(mmp_trials):\n",
    "        print(f\"MMP trial: {mmp_trial}\")\n",
    "        \n",
    "        df_mmp_target = df_mmp[(df_mmp.tid == target) & (df_mmp.mmp_trial == mmp_trial)]\n",
    "        \n",
    "        mmp_cpds = df_mmp_target.cid_1.values.tolist() + df_mmp_target.cid_2.values.tolist()\n",
    "        print(f\"Number of mmp pairs: {len(mmp_cpds)}\")\n",
    "        print(f\"Number of mmp pairs: {len(set(mmp_cpds))}\")\n",
    "        \n",
    "        for split in ['Random', 'Stratified']:\n",
    "            print(f\"Split: {split}\")\n",
    "            for trial in range(trial_splits):\n",
    "                print(f\"Trial: {trial}\")\n",
    "                \n",
    "                # train test split\n",
    "                regression_set, train_idx, test_idx = split_data(df_regression_target, df_mmp_target, test_size=0.5, random_seed=trial, split_type=split)\n",
    "\n",
    "                # dataset \n",
    "                dataset = Dataset(np.array(ECFP4(regression_set.smiles.values)), np.array(regression_set.pPot.values))\n",
    "                dataset.add_instance(\"target\", regression_set.tid.values)\n",
    "                dataset.add_instance(\"smiles\", regression_set.smiles.values)\n",
    "                dataset.add_instance(\"cid\", regression_set.cid.values)\n",
    "                dataset.add_instance(\"mmp_id\", regression_set.mmp_id.values)\n",
    "                dataset.add_instance(\"analog_series_id\", regression_set.analog_series_id.values)\n",
    "                dataset.add_instance(\"train_test\", regression_set.train_test.values)\n",
    "                dataset.add_instance(\"similarity\", regression_set.similarity.values)\n",
    "                dataset.add_instance(\"dPot\", regression_set.dpot.values)\n",
    "                \n",
    "                # Training set\n",
    "                training_set = dataset[train_idx]\n",
    "                # Test set\n",
    "                test_set = dataset[test_idx]\n",
    "                \n",
    "                # Set seed\n",
    "                set_global_determinism(seed=trial)\n",
    "                \n",
    "                for model in model_list:\n",
    "                    print(f\"Model: {model}\")\n",
    "                    # Create saving directory\n",
    "                    model_fpath = create_directory(f\"./{main_folder}/{fingerprint}/{approach}/{target}/{split}/{model}/\", verbose=False)\n",
    "    \n",
    "                    # ml model\n",
    "                    model_loaded = None\n",
    "                    if os.path.exists(os.path.join(model_fpath, f\"{model}_{trial}_{mmp_trial}.pkl\")):\n",
    "                        ml_model = joblib.load(os.path.join(model_fpath, f\"{model}_{trial}_{mmp_trial}.pkl\"))\n",
    "                        print(f\"Model {model}_{trial} loaded\")\n",
    "                        model_loaded = True\n",
    "                    else:\n",
    "                        ml_model = MLModel(training_set, model)\n",
    "                        # save model\n",
    "                        joblib.dump(ml_model.model, os.path.join(model_fpath, f\"{model}_{trial}_{mmp_trial}.pkl\"))\n",
    "    \n",
    "                    if not model_loaded:\n",
    "                        # Best model parameters\n",
    "                        opt_parameters_dict = {**{'model': model,\n",
    "                                                  'trial': trial,\n",
    "                                                  'split': split,\n",
    "                                                  'mmp_trial': mmp_trial,\n",
    "                                                  'Target ID': target}, **ml_model.best_params}\n",
    "        \n",
    "                        parameter_resume.append(opt_parameters_dict)\n",
    "    \n",
    "                    # Model evaluation\n",
    "                    model_eval_train = ml_evaluation(model=ml_model, data=training_set, model_id=model,\n",
    "                                                         model_loaded=model_loaded)\n",
    "                        \n",
    "                    model_eval_test = ml_evaluation(model=ml_model, data=test_set, model_id=model,\n",
    "                                                    model_loaded=model_loaded)\n",
    "                    \n",
    "                    # Performance df\n",
    "                    performance_train = get_df_results(model_eval_train.pred_performance, trial=trial, approach=approach, \n",
    "                                                       fingerprint=fingerprint, split=split, mm_trial=mmp_trial)\n",
    "                    performance_train_df = pd.concat([performance_train_df, performance_train])\n",
    "\n",
    "                    # Prediction df\n",
    "                    predictions_train = get_df_results(model_eval_train.predictions, trial=trial, approach=approach, \n",
    "                                                       fingerprint=fingerprint, split=split, mm_trial=mmp_trial)\n",
    "\n",
    "                    predictions_train_df = pd.concat([predictions_train_df, predictions_train])\n",
    "        \n",
    "                    # Performance df\n",
    "                    performance_test = get_df_results(model_eval_test.pred_performance, trial=trial, approach=approach, \n",
    "                                                      fingerprint=fingerprint, split=split, mm_trial=mmp_trial)\n",
    "                    performance_test_df = pd.concat([performance_test_df, performance_test])\n",
    "        \n",
    "                    # Prediction df\n",
    "                    predictions_test = get_df_results(model_eval_test.predictions, trial=trial, approach=approach, \n",
    "                                                      fingerprint=fingerprint, split=split, mm_trial=mmp_trial)\n",
    "\n",
    "                    predictions_test_df = pd.concat([predictions_test_df, predictions_test])\n",
    "    \n",
    "parameter_df = pd.DataFrame(parameter_resume)\n",
    "performance_test_df.to_csv(os.path.join(results_path, f'performance_test.csv'))\n",
    "predictions_test_df.to_csv(os.path.join(results_path, f'predictions_test.csv'))\n",
    "performance_train_df.to_csv(os.path.join(results_path, f'performance_train.csv'))\n",
    "predictions_train_df.to_csv(os.path.join(results_path, f'predictions_train.csv'))\n",
    "parameter_df.to_csv(os.path.join(results_path, f'model_best_parameters.csv'))"
   ],
   "metadata": {
    "collapsed": false
   },
   "id": "798243e7e7c9575a"
  }
 ],
 "metadata": {
  "kernelspec": {
   "display_name": "Python 3",
   "language": "python",
   "name": "python3"
  },
  "language_info": {
   "codemirror_mode": {
    "name": "ipython",
    "version": 2
   },
   "file_extension": ".py",
   "mimetype": "text/x-python",
   "name": "python",
   "nbconvert_exporter": "python",
   "pygments_lexer": "ipython2",
   "version": "2.7.6"
  }
 },
 "nbformat": 4,
 "nbformat_minor": 5
}
