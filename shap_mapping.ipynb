{
 "cells": [
  {
   "cell_type": "markdown",
   "source": [
    "# Compound SV / SHAP mappping"
   ],
   "metadata": {
    "collapsed": false
   },
   "id": "2bee69b566d5a0fd"
  },
  {
   "cell_type": "code",
   "execution_count": 1,
   "id": "initial_id",
   "metadata": {
    "collapsed": true,
    "ExecuteTime": {
     "end_time": "2023-09-30T15:52:09.373581500Z",
     "start_time": "2023-09-30T15:52:09.315985Z"
    }
   },
   "outputs": [],
   "source": [
    "%load_ext autoreload"
   ]
  },
  {
   "cell_type": "markdown",
   "source": [
    "# Import libraries"
   ],
   "metadata": {
    "collapsed": false
   },
   "id": "167d8fd76ea65e52"
  },
  {
   "cell_type": "code",
   "execution_count": 3,
   "outputs": [],
   "source": [
    "import pandas as pd\n",
    "import os\n",
    "from rdkit import Chem\n",
    "from ML.ml_utils_reg import create_directory\n",
    "from ML.utils_mol_draw import get_ecfp4_bit_info, shap_to_atom_weight, \\\n",
    "    get_atom_wise_weight_map_ref_mol, get_color_bar\n",
    "from ML import utils_pil\n",
    "from ML.utils_shap import get_mmp_core\n",
    "from ccrlib_master.utils_mmp import count_heavy_atoms\n",
    "import seaborn as sns\n",
    "import tqdm\n",
    "sns.set_theme(style=\"whitegrid\")\n",
    "%autoreload 2"
   ],
   "metadata": {
    "collapsed": false,
    "ExecuteTime": {
     "end_time": "2023-09-30T15:53:10.034363300Z",
     "start_time": "2023-09-30T15:53:09.950228400Z"
    }
   },
   "id": "5d8cf9dc873ba3d7"
  },
  {
   "cell_type": "markdown",
   "source": [
    "# Load data"
   ],
   "metadata": {
    "collapsed": false
   },
   "id": "1e69c84f19783d46"
  },
  {
   "cell_type": "code",
   "execution_count": 3,
   "outputs": [],
   "source": [
    "results_path = './regression_shap_mmp/ECFP4/regression/'"
   ],
   "metadata": {
    "collapsed": false,
    "ExecuteTime": {
     "end_time": "2023-09-20T10:11:37.885561100Z",
     "start_time": "2023-09-20T10:11:37.758008500Z"
    }
   },
   "id": "6e0eeceabe70b6a7"
  },
  {
   "cell_type": "code",
   "execution_count": 4,
   "outputs": [
    {
     "data": {
      "text/plain": "     trial algorithm       split      explainer            cid  \\\n0        0       SVR      Random          SVETA   CHEMBL472581   \n1        0       SVR      Random          SVETA   CHEMBL509914   \n2        0       SVR      Random          SVETA  CHEMBL4541014   \n3        0       SVR      Random          SVETA   CHEMBL128987   \n4        0       SVR      Random          SVETA   CHEMBL447223   \n..     ...       ...         ...            ...            ...   \n475      9       RFR  Stratified  TreeExplainer  CHEMBL1766496   \n476      9       RFR  Stratified  TreeExplainer  CHEMBL4647072   \n477      9       RFR  Stratified  TreeExplainer  CHEMBL1784169   \n478      9       RFR  Stratified  TreeExplainer  CHEMBL3086677   \n479      9       RFR  Stratified  TreeExplainer  CHEMBL5081438   \n\n                                                smiles  target ID  \\\n0    CS(=O)(=O)CCNCc1nc(-c2ccc3ncnc(Nc4ccc5c(cnn5Cc...        203   \n1       O=C(C=Cc1ccccc1)Cc1cc2c(Nc3cccc(Br)c3)ncnc2cn1        203   \n2          COc1cc(Nc2ncnc3cc(-c4ccccc4)sc23)cc(OC)c1OC        203   \n3             Brc1cccc(Nc2ncnc3cc(NCCN4CCOCC4)ncc23)c1        203   \n4            C=CC(=O)Nc1ccc2ncnc(Cc3ccc(F)c(Cl)c3)c2c1        203   \n..                                                 ...        ...   \n475      Cn1c(=O)c(Cc2ccc(F)cc2F)cc2cnc(NC3CCOCC3)nc21        260   \n476       c1ccc2cc(-c3nnc(N4CCNCC4)cc3-c3ccncc3)ccc2c1        260   \n477  Cc1nc(CNC(=O)c2ccc(-c3cc(C(=O)NC4CC4)cc(F)c3C)...        260   \n478  O=C1c2cc(OCCC3CCOCC3)ccc2COc2cc(Nc3ccc(F)cc3F)...        260   \n479  COC(=O)CCCNC(=O)c1ccc2c(c1)C(=O)c1ccc(Nc3ccc(F...        260   \n\n     experimental  prediction  expected_value       mae  analog_series_id  \\\n0        7.150028    7.250393        6.646533  0.100365               305   \n1        8.040005    8.140346        6.646533  0.100341                27   \n2        7.638272    7.538456        6.646533  0.099816               253   \n3        8.489991    8.561117        6.646533  0.071125                17   \n4        9.119987    9.183653        6.646533  0.063666                80   \n..            ...         ...             ...       ...               ...   \n475      7.397940    7.804251        7.365917  0.406311               283   \n476      6.795880    6.829682        7.365917  0.033802               142   \n477      7.100015    6.861094        7.365917  0.238922               184   \n478      6.770636    6.492897        7.365917  0.277739                28   \n479      8.468521    8.382190        7.365917  0.086331                46   \n\n     mmp_id  similarity      dPot  \\\n0       166    0.812500  0.001286   \n1       125    0.789474  1.120014   \n2         0    0.800000  1.151490   \n3       250    0.881356  0.219966   \n4       194    0.661017  0.030041   \n..      ...         ...       ...   \n475     294    0.558824  0.279841   \n476     314    0.755102  0.157608   \n477     161    0.655738  0.600019   \n478     253    0.704225  0.886942   \n479     264    0.591549  1.547702   \n\n                                           shap_values  \\\n0    [0.0, 0.032219119696185815, -0.055681158185522...   \n1    [0.0, 0.021741757320681867, -0.091442926251187...   \n2    [0.0, 0.04179085647819404, -0.0580110349601591...   \n3    [0.0, 0.03716784869633809, -0.0843523984224269...   \n4    [0.0, 0.05648243399732695, -0.1151572299096595...   \n..                                                 ...   \n475  [0.0, -0.002593746648617525, -2.67996651018620...   \n476  [0.0, -0.002915379880214459, 1.434880119631998...   \n477  [0.0, -0.0036892747342790245, 8.46013695991132...   \n478  [0.0, -0.0037749859997347813, -1.2529271480161...   \n479  [0.0, -0.0022593092225179135, 0.00014336155290...   \n\n                                           fingerprint  conf_expected    Set  \\\n0    [0, 0, 0, 0, 0, 0, 0, 0, 0, 0, 0, 0, 0, 0, 0, ...       7.250393  Train   \n1    [0, 0, 0, 0, 0, 0, 0, 0, 0, 0, 0, 0, 0, 0, 0, ...       8.140346  Train   \n2    [0, 0, 0, 0, 0, 0, 0, 0, 0, 0, 0, 0, 0, 0, 0, ...       7.538456  Train   \n3    [0, 0, 0, 0, 0, 0, 0, 0, 0, 0, 0, 0, 0, 0, 0, ...       8.561117  Train   \n4    [0, 0, 0, 0, 0, 0, 0, 0, 0, 0, 0, 0, 0, 0, 0, ...       9.183653  Train   \n..                                                 ...            ...    ...   \n475  [0, 0, 0, 0, 0, 0, 0, 0, 0, 0, 0, 0, 0, 0, 0, ...       7.804251   Test   \n476  [0, 0, 0, 0, 0, 0, 0, 0, 0, 0, 0, 0, 0, 0, 0, ...       6.829682   Test   \n477  [0, 0, 0, 0, 0, 0, 0, 0, 0, 1, 0, 0, 0, 0, 0, ...       6.861094   Test   \n478  [0, 0, 0, 0, 0, 0, 0, 0, 0, 0, 0, 0, 0, 1, 0, ...       6.492897   Test   \n479  [0, 0, 0, 0, 0, 0, 0, 0, 1, 0, 0, 0, 0, 0, 1, ...       8.382190   Test   \n\n     mmp_trial  \n0            0  \n1            0  \n2            0  \n3            0  \n4            0  \n..         ...  \n475          0  \n476          0  \n477          0  \n478          0  \n479          0  \n\n[362800 rows x 20 columns]",
      "text/html": "<div>\n<style scoped>\n    .dataframe tbody tr th:only-of-type {\n        vertical-align: middle;\n    }\n\n    .dataframe tbody tr th {\n        vertical-align: top;\n    }\n\n    .dataframe thead th {\n        text-align: right;\n    }\n</style>\n<table border=\"1\" class=\"dataframe\">\n  <thead>\n    <tr style=\"text-align: right;\">\n      <th></th>\n      <th>trial</th>\n      <th>algorithm</th>\n      <th>split</th>\n      <th>explainer</th>\n      <th>cid</th>\n      <th>smiles</th>\n      <th>target ID</th>\n      <th>experimental</th>\n      <th>prediction</th>\n      <th>expected_value</th>\n      <th>mae</th>\n      <th>analog_series_id</th>\n      <th>mmp_id</th>\n      <th>similarity</th>\n      <th>dPot</th>\n      <th>shap_values</th>\n      <th>fingerprint</th>\n      <th>conf_expected</th>\n      <th>Set</th>\n      <th>mmp_trial</th>\n    </tr>\n  </thead>\n  <tbody>\n    <tr>\n      <th>0</th>\n      <td>0</td>\n      <td>SVR</td>\n      <td>Random</td>\n      <td>SVETA</td>\n      <td>CHEMBL472581</td>\n      <td>CS(=O)(=O)CCNCc1nc(-c2ccc3ncnc(Nc4ccc5c(cnn5Cc...</td>\n      <td>203</td>\n      <td>7.150028</td>\n      <td>7.250393</td>\n      <td>6.646533</td>\n      <td>0.100365</td>\n      <td>305</td>\n      <td>166</td>\n      <td>0.812500</td>\n      <td>0.001286</td>\n      <td>[0.0, 0.032219119696185815, -0.055681158185522...</td>\n      <td>[0, 0, 0, 0, 0, 0, 0, 0, 0, 0, 0, 0, 0, 0, 0, ...</td>\n      <td>7.250393</td>\n      <td>Train</td>\n      <td>0</td>\n    </tr>\n    <tr>\n      <th>1</th>\n      <td>0</td>\n      <td>SVR</td>\n      <td>Random</td>\n      <td>SVETA</td>\n      <td>CHEMBL509914</td>\n      <td>O=C(C=Cc1ccccc1)Cc1cc2c(Nc3cccc(Br)c3)ncnc2cn1</td>\n      <td>203</td>\n      <td>8.040005</td>\n      <td>8.140346</td>\n      <td>6.646533</td>\n      <td>0.100341</td>\n      <td>27</td>\n      <td>125</td>\n      <td>0.789474</td>\n      <td>1.120014</td>\n      <td>[0.0, 0.021741757320681867, -0.091442926251187...</td>\n      <td>[0, 0, 0, 0, 0, 0, 0, 0, 0, 0, 0, 0, 0, 0, 0, ...</td>\n      <td>8.140346</td>\n      <td>Train</td>\n      <td>0</td>\n    </tr>\n    <tr>\n      <th>2</th>\n      <td>0</td>\n      <td>SVR</td>\n      <td>Random</td>\n      <td>SVETA</td>\n      <td>CHEMBL4541014</td>\n      <td>COc1cc(Nc2ncnc3cc(-c4ccccc4)sc23)cc(OC)c1OC</td>\n      <td>203</td>\n      <td>7.638272</td>\n      <td>7.538456</td>\n      <td>6.646533</td>\n      <td>0.099816</td>\n      <td>253</td>\n      <td>0</td>\n      <td>0.800000</td>\n      <td>1.151490</td>\n      <td>[0.0, 0.04179085647819404, -0.0580110349601591...</td>\n      <td>[0, 0, 0, 0, 0, 0, 0, 0, 0, 0, 0, 0, 0, 0, 0, ...</td>\n      <td>7.538456</td>\n      <td>Train</td>\n      <td>0</td>\n    </tr>\n    <tr>\n      <th>3</th>\n      <td>0</td>\n      <td>SVR</td>\n      <td>Random</td>\n      <td>SVETA</td>\n      <td>CHEMBL128987</td>\n      <td>Brc1cccc(Nc2ncnc3cc(NCCN4CCOCC4)ncc23)c1</td>\n      <td>203</td>\n      <td>8.489991</td>\n      <td>8.561117</td>\n      <td>6.646533</td>\n      <td>0.071125</td>\n      <td>17</td>\n      <td>250</td>\n      <td>0.881356</td>\n      <td>0.219966</td>\n      <td>[0.0, 0.03716784869633809, -0.0843523984224269...</td>\n      <td>[0, 0, 0, 0, 0, 0, 0, 0, 0, 0, 0, 0, 0, 0, 0, ...</td>\n      <td>8.561117</td>\n      <td>Train</td>\n      <td>0</td>\n    </tr>\n    <tr>\n      <th>4</th>\n      <td>0</td>\n      <td>SVR</td>\n      <td>Random</td>\n      <td>SVETA</td>\n      <td>CHEMBL447223</td>\n      <td>C=CC(=O)Nc1ccc2ncnc(Cc3ccc(F)c(Cl)c3)c2c1</td>\n      <td>203</td>\n      <td>9.119987</td>\n      <td>9.183653</td>\n      <td>6.646533</td>\n      <td>0.063666</td>\n      <td>80</td>\n      <td>194</td>\n      <td>0.661017</td>\n      <td>0.030041</td>\n      <td>[0.0, 0.05648243399732695, -0.1151572299096595...</td>\n      <td>[0, 0, 0, 0, 0, 0, 0, 0, 0, 0, 0, 0, 0, 0, 0, ...</td>\n      <td>9.183653</td>\n      <td>Train</td>\n      <td>0</td>\n    </tr>\n    <tr>\n      <th>...</th>\n      <td>...</td>\n      <td>...</td>\n      <td>...</td>\n      <td>...</td>\n      <td>...</td>\n      <td>...</td>\n      <td>...</td>\n      <td>...</td>\n      <td>...</td>\n      <td>...</td>\n      <td>...</td>\n      <td>...</td>\n      <td>...</td>\n      <td>...</td>\n      <td>...</td>\n      <td>...</td>\n      <td>...</td>\n      <td>...</td>\n      <td>...</td>\n      <td>...</td>\n    </tr>\n    <tr>\n      <th>475</th>\n      <td>9</td>\n      <td>RFR</td>\n      <td>Stratified</td>\n      <td>TreeExplainer</td>\n      <td>CHEMBL1766496</td>\n      <td>Cn1c(=O)c(Cc2ccc(F)cc2F)cc2cnc(NC3CCOCC3)nc21</td>\n      <td>260</td>\n      <td>7.397940</td>\n      <td>7.804251</td>\n      <td>7.365917</td>\n      <td>0.406311</td>\n      <td>283</td>\n      <td>294</td>\n      <td>0.558824</td>\n      <td>0.279841</td>\n      <td>[0.0, -0.002593746648617525, -2.67996651018620...</td>\n      <td>[0, 0, 0, 0, 0, 0, 0, 0, 0, 0, 0, 0, 0, 0, 0, ...</td>\n      <td>7.804251</td>\n      <td>Test</td>\n      <td>0</td>\n    </tr>\n    <tr>\n      <th>476</th>\n      <td>9</td>\n      <td>RFR</td>\n      <td>Stratified</td>\n      <td>TreeExplainer</td>\n      <td>CHEMBL4647072</td>\n      <td>c1ccc2cc(-c3nnc(N4CCNCC4)cc3-c3ccncc3)ccc2c1</td>\n      <td>260</td>\n      <td>6.795880</td>\n      <td>6.829682</td>\n      <td>7.365917</td>\n      <td>0.033802</td>\n      <td>142</td>\n      <td>314</td>\n      <td>0.755102</td>\n      <td>0.157608</td>\n      <td>[0.0, -0.002915379880214459, 1.434880119631998...</td>\n      <td>[0, 0, 0, 0, 0, 0, 0, 0, 0, 0, 0, 0, 0, 0, 0, ...</td>\n      <td>6.829682</td>\n      <td>Test</td>\n      <td>0</td>\n    </tr>\n    <tr>\n      <th>477</th>\n      <td>9</td>\n      <td>RFR</td>\n      <td>Stratified</td>\n      <td>TreeExplainer</td>\n      <td>CHEMBL1784169</td>\n      <td>Cc1nc(CNC(=O)c2ccc(-c3cc(C(=O)NC4CC4)cc(F)c3C)...</td>\n      <td>260</td>\n      <td>7.100015</td>\n      <td>6.861094</td>\n      <td>7.365917</td>\n      <td>0.238922</td>\n      <td>184</td>\n      <td>161</td>\n      <td>0.655738</td>\n      <td>0.600019</td>\n      <td>[0.0, -0.0036892747342790245, 8.46013695991132...</td>\n      <td>[0, 0, 0, 0, 0, 0, 0, 0, 0, 1, 0, 0, 0, 0, 0, ...</td>\n      <td>6.861094</td>\n      <td>Test</td>\n      <td>0</td>\n    </tr>\n    <tr>\n      <th>478</th>\n      <td>9</td>\n      <td>RFR</td>\n      <td>Stratified</td>\n      <td>TreeExplainer</td>\n      <td>CHEMBL3086677</td>\n      <td>O=C1c2cc(OCCC3CCOCC3)ccc2COc2cc(Nc3ccc(F)cc3F)...</td>\n      <td>260</td>\n      <td>6.770636</td>\n      <td>6.492897</td>\n      <td>7.365917</td>\n      <td>0.277739</td>\n      <td>28</td>\n      <td>253</td>\n      <td>0.704225</td>\n      <td>0.886942</td>\n      <td>[0.0, -0.0037749859997347813, -1.2529271480161...</td>\n      <td>[0, 0, 0, 0, 0, 0, 0, 0, 0, 0, 0, 0, 0, 1, 0, ...</td>\n      <td>6.492897</td>\n      <td>Test</td>\n      <td>0</td>\n    </tr>\n    <tr>\n      <th>479</th>\n      <td>9</td>\n      <td>RFR</td>\n      <td>Stratified</td>\n      <td>TreeExplainer</td>\n      <td>CHEMBL5081438</td>\n      <td>COC(=O)CCCNC(=O)c1ccc2c(c1)C(=O)c1ccc(Nc3ccc(F...</td>\n      <td>260</td>\n      <td>8.468521</td>\n      <td>8.382190</td>\n      <td>7.365917</td>\n      <td>0.086331</td>\n      <td>46</td>\n      <td>264</td>\n      <td>0.591549</td>\n      <td>1.547702</td>\n      <td>[0.0, -0.0022593092225179135, 0.00014336155290...</td>\n      <td>[0, 0, 0, 0, 0, 0, 0, 0, 1, 0, 0, 0, 0, 0, 1, ...</td>\n      <td>8.382190</td>\n      <td>Test</td>\n      <td>0</td>\n    </tr>\n  </tbody>\n</table>\n<p>362800 rows × 20 columns</p>\n</div>"
     },
     "metadata": {},
     "output_type": "display_data"
    }
   ],
   "source": [
    "df_shap_loaded_all = pd.read_pickle(os.path.join(results_path, f'df_shap.pkl'))\n",
    "df_shap_loaded_all.rename(columns={'train_test': 'Set'}, inplace=True)\n",
    "df_shap_loaded_all['Set'] = df_shap_loaded_all['Set'].replace({'test': 'Test', 'train': 'Train'})\n",
    "display(df_shap_loaded_all)"
   ],
   "metadata": {
    "collapsed": false,
    "ExecuteTime": {
     "end_time": "2023-09-20T10:12:13.544805300Z",
     "start_time": "2023-09-20T10:11:37.887557800Z"
    }
   },
   "id": "6bf0afeea28d0b3"
  },
  {
   "cell_type": "code",
   "execution_count": 5,
   "outputs": [
    {
     "data": {
      "text/plain": "     trial algorithm       split      explainer            cid  \\\n0        0       SVR      Random          SVETA  CHEMBL3774926   \n1        0       SVR      Random          SVETA  CHEMBL2334001   \n2        0       SVR      Random          SVETA  CHEMBL4546122   \n3        0       SVR      Random          SVETA   CHEMBL453378   \n4        0       SVR      Random          SVETA  CHEMBL3622675   \n..     ...       ...         ...            ...            ...   \n475      9       RFR  Stratified  TreeExplainer  CHEMBL1766496   \n476      9       RFR  Stratified  TreeExplainer  CHEMBL4647072   \n477      9       RFR  Stratified  TreeExplainer  CHEMBL1784169   \n478      9       RFR  Stratified  TreeExplainer  CHEMBL3086677   \n479      9       RFR  Stratified  TreeExplainer  CHEMBL5081438   \n\n                                                smiles  target ID  \\\n0    C#Cc1cccc(Nc2ncnc3cc4c(cc23)N(CCCN2CCOCC2)C(=O...        203   \n1               COc1cc2ncnc(Nc3ccc(F)c(Cl)c3)c2cc1OCCO        203   \n2    COc1ccc(-c2cc3ncnc(Nc4cc(OC)c(OC)c(OC)c4)c3s2)cc1        203   \n3       CCOC(=O)C=CC(=O)Cc1cc2c(Nc3cccc(Br)c3)ncnc2cn1        203   \n4    C#Cc1cccc(Nc2ncnc3cc(OCC)c(NC(=O)C=CCN(C)C4CC4...        203   \n..                                                 ...        ...   \n475      Cn1c(=O)c(Cc2ccc(F)cc2F)cc2cnc(NC3CCOCC3)nc21        260   \n476       c1ccc2cc(-c3nnc(N4CCNCC4)cc3-c3ccncc3)ccc2c1        260   \n477  Cc1nc(CNC(=O)c2ccc(-c3cc(C(=O)NC4CC4)cc(F)c3C)...        260   \n478  O=C1c2cc(OCCC3CCOCC3)ccc2COc2cc(Nc3ccc(F)cc3F)...        260   \n479  COC(=O)CCCNC(=O)c1ccc2c(c1)C(=O)c1ccc(Nc3ccc(F...        260   \n\n     experimental  prediction  expected_value       mae  analog_series_id  \\\n0        6.856985    6.896116        6.646533  0.039131                24   \n1        7.197911    7.912631        6.646533  0.714721               278   \n2        7.283997    7.087565        6.646533  0.196432               253   \n3        8.819874    8.350949        6.646533  0.468925               143   \n4        8.619789    8.556186        6.646533  0.063603                10   \n..            ...         ...             ...       ...               ...   \n475      7.397940    7.804251        7.365917  0.406311               283   \n476      6.795880    6.829682        7.365917  0.033802               142   \n477      7.100015    6.861094        7.365917  0.238922               184   \n478      6.770636    6.492897        7.365917  0.277739                28   \n479      8.468521    8.382190        7.365917  0.086331                46   \n\n     mmp_id  similarity      dPot  \\\n0       273    0.871429  0.182090   \n1         9    0.630769  0.802089   \n2         1    0.820000  0.716003   \n3       202    0.589744  0.270142   \n4       325    0.890411  0.138303   \n..      ...         ...       ...   \n475     294    0.558824  0.279841   \n476     314    0.755102  0.157608   \n477     161    0.655738  0.600019   \n478     253    0.704225  0.886942   \n479     264    0.591549  1.547702   \n\n                                           shap_values  \\\n0    [0.0, 0.024560749532099555, 0.0757187703470913...   \n1    [0.0, 0.10321972999540505, -0.1523825149093888...   \n2    [0.0, 0.07220751201514818, -0.0532990340197648...   \n3    [0.0, 0.020148654861969935, -0.081527995396772...   \n4    [0.0, 0.007068350585841467, -0.062895413946332...   \n..                                                 ...   \n475  [0.0, -0.002593746648617525, -2.67996651018620...   \n476  [0.0, -0.002915379880214459, 1.434880119631998...   \n477  [0.0, -0.0036892747342790245, 8.46013695991132...   \n478  [0.0, -0.0037749859997347813, -1.2529271480161...   \n479  [0.0, -0.0022593092225179135, 0.00014336155290...   \n\n                                           fingerprint  conf_expected   Set  \\\n0    [0, 0, 0, 0, 0, 0, 0, 0, 0, 0, 0, 0, 0, 0, 0, ...       6.896116  Test   \n1    [0, 0, 0, 0, 0, 0, 0, 0, 0, 0, 0, 0, 0, 1, 0, ...       7.912631  Test   \n2    [0, 0, 0, 0, 0, 0, 0, 0, 0, 0, 0, 0, 0, 0, 0, ...       7.087565  Test   \n3    [0, 0, 0, 0, 0, 0, 0, 0, 0, 0, 0, 0, 0, 0, 0, ...       8.350949  Test   \n4    [0, 0, 0, 0, 0, 0, 0, 0, 0, 0, 0, 0, 0, 0, 0, ...       8.556186  Test   \n..                                                 ...            ...   ...   \n475  [0, 0, 0, 0, 0, 0, 0, 0, 0, 0, 0, 0, 0, 0, 0, ...       7.804251  Test   \n476  [0, 0, 0, 0, 0, 0, 0, 0, 0, 0, 0, 0, 0, 0, 0, ...       6.829682  Test   \n477  [0, 0, 0, 0, 0, 0, 0, 0, 0, 1, 0, 0, 0, 0, 0, ...       6.861094  Test   \n478  [0, 0, 0, 0, 0, 0, 0, 0, 0, 0, 0, 0, 0, 1, 0, ...       6.492897  Test   \n479  [0, 0, 0, 0, 0, 0, 0, 0, 1, 0, 0, 0, 0, 0, 1, ...       8.382190  Test   \n\n     mmp_trial  \n0            0  \n1            0  \n2            0  \n3            0  \n4            0  \n..         ...  \n475          0  \n476          0  \n477          0  \n478          0  \n479          0  \n\n[181400 rows x 20 columns]",
      "text/html": "<div>\n<style scoped>\n    .dataframe tbody tr th:only-of-type {\n        vertical-align: middle;\n    }\n\n    .dataframe tbody tr th {\n        vertical-align: top;\n    }\n\n    .dataframe thead th {\n        text-align: right;\n    }\n</style>\n<table border=\"1\" class=\"dataframe\">\n  <thead>\n    <tr style=\"text-align: right;\">\n      <th></th>\n      <th>trial</th>\n      <th>algorithm</th>\n      <th>split</th>\n      <th>explainer</th>\n      <th>cid</th>\n      <th>smiles</th>\n      <th>target ID</th>\n      <th>experimental</th>\n      <th>prediction</th>\n      <th>expected_value</th>\n      <th>mae</th>\n      <th>analog_series_id</th>\n      <th>mmp_id</th>\n      <th>similarity</th>\n      <th>dPot</th>\n      <th>shap_values</th>\n      <th>fingerprint</th>\n      <th>conf_expected</th>\n      <th>Set</th>\n      <th>mmp_trial</th>\n    </tr>\n  </thead>\n  <tbody>\n    <tr>\n      <th>0</th>\n      <td>0</td>\n      <td>SVR</td>\n      <td>Random</td>\n      <td>SVETA</td>\n      <td>CHEMBL3774926</td>\n      <td>C#Cc1cccc(Nc2ncnc3cc4c(cc23)N(CCCN2CCOCC2)C(=O...</td>\n      <td>203</td>\n      <td>6.856985</td>\n      <td>6.896116</td>\n      <td>6.646533</td>\n      <td>0.039131</td>\n      <td>24</td>\n      <td>273</td>\n      <td>0.871429</td>\n      <td>0.182090</td>\n      <td>[0.0, 0.024560749532099555, 0.0757187703470913...</td>\n      <td>[0, 0, 0, 0, 0, 0, 0, 0, 0, 0, 0, 0, 0, 0, 0, ...</td>\n      <td>6.896116</td>\n      <td>Test</td>\n      <td>0</td>\n    </tr>\n    <tr>\n      <th>1</th>\n      <td>0</td>\n      <td>SVR</td>\n      <td>Random</td>\n      <td>SVETA</td>\n      <td>CHEMBL2334001</td>\n      <td>COc1cc2ncnc(Nc3ccc(F)c(Cl)c3)c2cc1OCCO</td>\n      <td>203</td>\n      <td>7.197911</td>\n      <td>7.912631</td>\n      <td>6.646533</td>\n      <td>0.714721</td>\n      <td>278</td>\n      <td>9</td>\n      <td>0.630769</td>\n      <td>0.802089</td>\n      <td>[0.0, 0.10321972999540505, -0.1523825149093888...</td>\n      <td>[0, 0, 0, 0, 0, 0, 0, 0, 0, 0, 0, 0, 0, 1, 0, ...</td>\n      <td>7.912631</td>\n      <td>Test</td>\n      <td>0</td>\n    </tr>\n    <tr>\n      <th>2</th>\n      <td>0</td>\n      <td>SVR</td>\n      <td>Random</td>\n      <td>SVETA</td>\n      <td>CHEMBL4546122</td>\n      <td>COc1ccc(-c2cc3ncnc(Nc4cc(OC)c(OC)c(OC)c4)c3s2)cc1</td>\n      <td>203</td>\n      <td>7.283997</td>\n      <td>7.087565</td>\n      <td>6.646533</td>\n      <td>0.196432</td>\n      <td>253</td>\n      <td>1</td>\n      <td>0.820000</td>\n      <td>0.716003</td>\n      <td>[0.0, 0.07220751201514818, -0.0532990340197648...</td>\n      <td>[0, 0, 0, 0, 0, 0, 0, 0, 0, 0, 0, 0, 0, 0, 0, ...</td>\n      <td>7.087565</td>\n      <td>Test</td>\n      <td>0</td>\n    </tr>\n    <tr>\n      <th>3</th>\n      <td>0</td>\n      <td>SVR</td>\n      <td>Random</td>\n      <td>SVETA</td>\n      <td>CHEMBL453378</td>\n      <td>CCOC(=O)C=CC(=O)Cc1cc2c(Nc3cccc(Br)c3)ncnc2cn1</td>\n      <td>203</td>\n      <td>8.819874</td>\n      <td>8.350949</td>\n      <td>6.646533</td>\n      <td>0.468925</td>\n      <td>143</td>\n      <td>202</td>\n      <td>0.589744</td>\n      <td>0.270142</td>\n      <td>[0.0, 0.020148654861969935, -0.081527995396772...</td>\n      <td>[0, 0, 0, 0, 0, 0, 0, 0, 0, 0, 0, 0, 0, 0, 0, ...</td>\n      <td>8.350949</td>\n      <td>Test</td>\n      <td>0</td>\n    </tr>\n    <tr>\n      <th>4</th>\n      <td>0</td>\n      <td>SVR</td>\n      <td>Random</td>\n      <td>SVETA</td>\n      <td>CHEMBL3622675</td>\n      <td>C#Cc1cccc(Nc2ncnc3cc(OCC)c(NC(=O)C=CCN(C)C4CC4...</td>\n      <td>203</td>\n      <td>8.619789</td>\n      <td>8.556186</td>\n      <td>6.646533</td>\n      <td>0.063603</td>\n      <td>10</td>\n      <td>325</td>\n      <td>0.890411</td>\n      <td>0.138303</td>\n      <td>[0.0, 0.007068350585841467, -0.062895413946332...</td>\n      <td>[0, 0, 0, 0, 0, 0, 0, 0, 0, 0, 0, 0, 0, 0, 0, ...</td>\n      <td>8.556186</td>\n      <td>Test</td>\n      <td>0</td>\n    </tr>\n    <tr>\n      <th>...</th>\n      <td>...</td>\n      <td>...</td>\n      <td>...</td>\n      <td>...</td>\n      <td>...</td>\n      <td>...</td>\n      <td>...</td>\n      <td>...</td>\n      <td>...</td>\n      <td>...</td>\n      <td>...</td>\n      <td>...</td>\n      <td>...</td>\n      <td>...</td>\n      <td>...</td>\n      <td>...</td>\n      <td>...</td>\n      <td>...</td>\n      <td>...</td>\n      <td>...</td>\n    </tr>\n    <tr>\n      <th>475</th>\n      <td>9</td>\n      <td>RFR</td>\n      <td>Stratified</td>\n      <td>TreeExplainer</td>\n      <td>CHEMBL1766496</td>\n      <td>Cn1c(=O)c(Cc2ccc(F)cc2F)cc2cnc(NC3CCOCC3)nc21</td>\n      <td>260</td>\n      <td>7.397940</td>\n      <td>7.804251</td>\n      <td>7.365917</td>\n      <td>0.406311</td>\n      <td>283</td>\n      <td>294</td>\n      <td>0.558824</td>\n      <td>0.279841</td>\n      <td>[0.0, -0.002593746648617525, -2.67996651018620...</td>\n      <td>[0, 0, 0, 0, 0, 0, 0, 0, 0, 0, 0, 0, 0, 0, 0, ...</td>\n      <td>7.804251</td>\n      <td>Test</td>\n      <td>0</td>\n    </tr>\n    <tr>\n      <th>476</th>\n      <td>9</td>\n      <td>RFR</td>\n      <td>Stratified</td>\n      <td>TreeExplainer</td>\n      <td>CHEMBL4647072</td>\n      <td>c1ccc2cc(-c3nnc(N4CCNCC4)cc3-c3ccncc3)ccc2c1</td>\n      <td>260</td>\n      <td>6.795880</td>\n      <td>6.829682</td>\n      <td>7.365917</td>\n      <td>0.033802</td>\n      <td>142</td>\n      <td>314</td>\n      <td>0.755102</td>\n      <td>0.157608</td>\n      <td>[0.0, -0.002915379880214459, 1.434880119631998...</td>\n      <td>[0, 0, 0, 0, 0, 0, 0, 0, 0, 0, 0, 0, 0, 0, 0, ...</td>\n      <td>6.829682</td>\n      <td>Test</td>\n      <td>0</td>\n    </tr>\n    <tr>\n      <th>477</th>\n      <td>9</td>\n      <td>RFR</td>\n      <td>Stratified</td>\n      <td>TreeExplainer</td>\n      <td>CHEMBL1784169</td>\n      <td>Cc1nc(CNC(=O)c2ccc(-c3cc(C(=O)NC4CC4)cc(F)c3C)...</td>\n      <td>260</td>\n      <td>7.100015</td>\n      <td>6.861094</td>\n      <td>7.365917</td>\n      <td>0.238922</td>\n      <td>184</td>\n      <td>161</td>\n      <td>0.655738</td>\n      <td>0.600019</td>\n      <td>[0.0, -0.0036892747342790245, 8.46013695991132...</td>\n      <td>[0, 0, 0, 0, 0, 0, 0, 0, 0, 1, 0, 0, 0, 0, 0, ...</td>\n      <td>6.861094</td>\n      <td>Test</td>\n      <td>0</td>\n    </tr>\n    <tr>\n      <th>478</th>\n      <td>9</td>\n      <td>RFR</td>\n      <td>Stratified</td>\n      <td>TreeExplainer</td>\n      <td>CHEMBL3086677</td>\n      <td>O=C1c2cc(OCCC3CCOCC3)ccc2COc2cc(Nc3ccc(F)cc3F)...</td>\n      <td>260</td>\n      <td>6.770636</td>\n      <td>6.492897</td>\n      <td>7.365917</td>\n      <td>0.277739</td>\n      <td>28</td>\n      <td>253</td>\n      <td>0.704225</td>\n      <td>0.886942</td>\n      <td>[0.0, -0.0037749859997347813, -1.2529271480161...</td>\n      <td>[0, 0, 0, 0, 0, 0, 0, 0, 0, 0, 0, 0, 0, 1, 0, ...</td>\n      <td>6.492897</td>\n      <td>Test</td>\n      <td>0</td>\n    </tr>\n    <tr>\n      <th>479</th>\n      <td>9</td>\n      <td>RFR</td>\n      <td>Stratified</td>\n      <td>TreeExplainer</td>\n      <td>CHEMBL5081438</td>\n      <td>COC(=O)CCCNC(=O)c1ccc2c(c1)C(=O)c1ccc(Nc3ccc(F...</td>\n      <td>260</td>\n      <td>8.468521</td>\n      <td>8.382190</td>\n      <td>7.365917</td>\n      <td>0.086331</td>\n      <td>46</td>\n      <td>264</td>\n      <td>0.591549</td>\n      <td>1.547702</td>\n      <td>[0.0, -0.0022593092225179135, 0.00014336155290...</td>\n      <td>[0, 0, 0, 0, 0, 0, 0, 0, 1, 0, 0, 0, 0, 0, 1, ...</td>\n      <td>8.382190</td>\n      <td>Test</td>\n      <td>0</td>\n    </tr>\n  </tbody>\n</table>\n<p>181400 rows × 20 columns</p>\n</div>"
     },
     "metadata": {},
     "output_type": "display_data"
    }
   ],
   "source": [
    "df_shap_loaded = df_shap_loaded_all.query('Set == \"Test\"')\n",
    "display(df_shap_loaded)"
   ],
   "metadata": {
    "collapsed": false,
    "ExecuteTime": {
     "end_time": "2023-09-20T10:12:13.777099600Z",
     "start_time": "2023-09-20T10:12:13.537206Z"
    }
   },
   "id": "943e77d87c0be31f"
  },
  {
   "cell_type": "markdown",
   "source": [
    "# Load MMP datasets"
   ],
   "metadata": {
    "collapsed": false
   },
   "id": "b55a171146160985"
  },
  {
   "cell_type": "code",
   "execution_count": 6,
   "outputs": [
    {
     "data": {
      "text/plain": "                                                    core   as  \\\n0                COc1cc(Nc2ncnc3cc([*:1])sc23)cc(OC)c1OC  253   \n1                COc1cc(Nc2ncnc3cc([*:1])sc23)cc(OC)c1OC  253   \n2                COc1cc(Nc2ncnc3cc([*:1])sc23)cc(OC)c1OC  253   \n3        COc1cc2ncnc(N3CCCc4ccccc43)c2cc1NC(=O)C=CC[*:1]  135   \n4          Clc1cc(Nc2ncnc3cccc(O[*:1])c23)ccc1OCc1ccccn1  207   \n...                                                  ...  ...   \n45337      O=c1cc(-c2[nH]c([*:1])nc2-c2ccc(F)cc2)cc[nH]1    3   \n45338        Nc1ccccc1Nc1ccc2c(c1)CCc1ccc(O[*:1])cc1C2=O   73   \n45339  O=C1NCc2c(-c3ccccc3Cl)nc(O[*:1])nc2N1c1c(Cl)cc...  144   \n45340         O=C1c2ccc(Nc3ccccc3)cc2CCc2ccc(O[*:1])cc21  200   \n45341          Cc1ccc(C(=O)NC2CC2)cc1Nc1nncc2c1cnn2[*:1]  249   \n\n                       sub_1                        cid_1               sub_2  \\\n0            c1ccc([*:1])cc1                CHEMBL4541014   Brc1ccc([*:1])cc1   \n1           Ic1ccc([*:1])cc1                CHEMBL4473768   COc1ccc([*:1])cc1   \n2             c1csc([*:1])c1                CHEMBL4460381   Clc1ccc([*:1])cc1   \n3                 CN(C)[*:1]                CHEMBL4176787             CC[*:1]   \n4                     C[*:1]                 CHEMBL194389     C1CC([*:1])CCO1   \n...                      ...                          ...                 ...   \n45337  O=C(O)c1ccc([*:1])cc1                CHEMBL3313935  C#Cc1ccc([*:1])cc1   \n45338           OCC(O)C[*:1]  CHEMBL2152936_CHEMBL2152938              C[*:1]   \n45339           CN(C)CC[*:1]                 CHEMBL211426               [*:1]   \n45340                 C[*:1]                CHEMBL2152784               [*:1]   \n45341      Fc1cccc(F)c1[*:1]                CHEMBL1081991    Fc1cccc([*:1])c1   \n\n               cid_2  tid  mmp_id      dpot  similarity  mmp_trial  \n0      CHEMBL4572443  203       0  1.151490    0.800000          0  \n1      CHEMBL4546122  203       1  0.716003    0.820000          0  \n2      CHEMBL4552482  203       2  2.038223    0.685185          0  \n3      CHEMBL4162530  203       3  0.338819    0.814286          0  \n4       CHEMBL193578  203       4  0.736759    0.718750          0  \n...              ...  ...     ...       ...         ...        ...  \n45337  CHEMBL3314276  260     475  0.504318    0.692308          9  \n45338  CHEMBL2152777  260     476  1.364568    0.677966          9  \n45339   CHEMBL213846  260     477  0.021189    0.616667          9  \n45340  CHEMBL2152796  260     478  0.162727    0.673913          9  \n45341  CHEMBL1087386  260     479  0.432309    0.791045          9  \n\n[45342 rows x 11 columns]",
      "text/html": "<div>\n<style scoped>\n    .dataframe tbody tr th:only-of-type {\n        vertical-align: middle;\n    }\n\n    .dataframe tbody tr th {\n        vertical-align: top;\n    }\n\n    .dataframe thead th {\n        text-align: right;\n    }\n</style>\n<table border=\"1\" class=\"dataframe\">\n  <thead>\n    <tr style=\"text-align: right;\">\n      <th></th>\n      <th>core</th>\n      <th>as</th>\n      <th>sub_1</th>\n      <th>cid_1</th>\n      <th>sub_2</th>\n      <th>cid_2</th>\n      <th>tid</th>\n      <th>mmp_id</th>\n      <th>dpot</th>\n      <th>similarity</th>\n      <th>mmp_trial</th>\n    </tr>\n  </thead>\n  <tbody>\n    <tr>\n      <th>0</th>\n      <td>COc1cc(Nc2ncnc3cc([*:1])sc23)cc(OC)c1OC</td>\n      <td>253</td>\n      <td>c1ccc([*:1])cc1</td>\n      <td>CHEMBL4541014</td>\n      <td>Brc1ccc([*:1])cc1</td>\n      <td>CHEMBL4572443</td>\n      <td>203</td>\n      <td>0</td>\n      <td>1.151490</td>\n      <td>0.800000</td>\n      <td>0</td>\n    </tr>\n    <tr>\n      <th>1</th>\n      <td>COc1cc(Nc2ncnc3cc([*:1])sc23)cc(OC)c1OC</td>\n      <td>253</td>\n      <td>Ic1ccc([*:1])cc1</td>\n      <td>CHEMBL4473768</td>\n      <td>COc1ccc([*:1])cc1</td>\n      <td>CHEMBL4546122</td>\n      <td>203</td>\n      <td>1</td>\n      <td>0.716003</td>\n      <td>0.820000</td>\n      <td>0</td>\n    </tr>\n    <tr>\n      <th>2</th>\n      <td>COc1cc(Nc2ncnc3cc([*:1])sc23)cc(OC)c1OC</td>\n      <td>253</td>\n      <td>c1csc([*:1])c1</td>\n      <td>CHEMBL4460381</td>\n      <td>Clc1ccc([*:1])cc1</td>\n      <td>CHEMBL4552482</td>\n      <td>203</td>\n      <td>2</td>\n      <td>2.038223</td>\n      <td>0.685185</td>\n      <td>0</td>\n    </tr>\n    <tr>\n      <th>3</th>\n      <td>COc1cc2ncnc(N3CCCc4ccccc43)c2cc1NC(=O)C=CC[*:1]</td>\n      <td>135</td>\n      <td>CN(C)[*:1]</td>\n      <td>CHEMBL4176787</td>\n      <td>CC[*:1]</td>\n      <td>CHEMBL4162530</td>\n      <td>203</td>\n      <td>3</td>\n      <td>0.338819</td>\n      <td>0.814286</td>\n      <td>0</td>\n    </tr>\n    <tr>\n      <th>4</th>\n      <td>Clc1cc(Nc2ncnc3cccc(O[*:1])c23)ccc1OCc1ccccn1</td>\n      <td>207</td>\n      <td>C[*:1]</td>\n      <td>CHEMBL194389</td>\n      <td>C1CC([*:1])CCO1</td>\n      <td>CHEMBL193578</td>\n      <td>203</td>\n      <td>4</td>\n      <td>0.736759</td>\n      <td>0.718750</td>\n      <td>0</td>\n    </tr>\n    <tr>\n      <th>...</th>\n      <td>...</td>\n      <td>...</td>\n      <td>...</td>\n      <td>...</td>\n      <td>...</td>\n      <td>...</td>\n      <td>...</td>\n      <td>...</td>\n      <td>...</td>\n      <td>...</td>\n      <td>...</td>\n    </tr>\n    <tr>\n      <th>45337</th>\n      <td>O=c1cc(-c2[nH]c([*:1])nc2-c2ccc(F)cc2)cc[nH]1</td>\n      <td>3</td>\n      <td>O=C(O)c1ccc([*:1])cc1</td>\n      <td>CHEMBL3313935</td>\n      <td>C#Cc1ccc([*:1])cc1</td>\n      <td>CHEMBL3314276</td>\n      <td>260</td>\n      <td>475</td>\n      <td>0.504318</td>\n      <td>0.692308</td>\n      <td>9</td>\n    </tr>\n    <tr>\n      <th>45338</th>\n      <td>Nc1ccccc1Nc1ccc2c(c1)CCc1ccc(O[*:1])cc1C2=O</td>\n      <td>73</td>\n      <td>OCC(O)C[*:1]</td>\n      <td>CHEMBL2152936_CHEMBL2152938</td>\n      <td>C[*:1]</td>\n      <td>CHEMBL2152777</td>\n      <td>260</td>\n      <td>476</td>\n      <td>1.364568</td>\n      <td>0.677966</td>\n      <td>9</td>\n    </tr>\n    <tr>\n      <th>45339</th>\n      <td>O=C1NCc2c(-c3ccccc3Cl)nc(O[*:1])nc2N1c1c(Cl)cc...</td>\n      <td>144</td>\n      <td>CN(C)CC[*:1]</td>\n      <td>CHEMBL211426</td>\n      <td>[*:1]</td>\n      <td>CHEMBL213846</td>\n      <td>260</td>\n      <td>477</td>\n      <td>0.021189</td>\n      <td>0.616667</td>\n      <td>9</td>\n    </tr>\n    <tr>\n      <th>45340</th>\n      <td>O=C1c2ccc(Nc3ccccc3)cc2CCc2ccc(O[*:1])cc21</td>\n      <td>200</td>\n      <td>C[*:1]</td>\n      <td>CHEMBL2152784</td>\n      <td>[*:1]</td>\n      <td>CHEMBL2152796</td>\n      <td>260</td>\n      <td>478</td>\n      <td>0.162727</td>\n      <td>0.673913</td>\n      <td>9</td>\n    </tr>\n    <tr>\n      <th>45341</th>\n      <td>Cc1ccc(C(=O)NC2CC2)cc1Nc1nncc2c1cnn2[*:1]</td>\n      <td>249</td>\n      <td>Fc1cccc(F)c1[*:1]</td>\n      <td>CHEMBL1081991</td>\n      <td>Fc1cccc([*:1])c1</td>\n      <td>CHEMBL1087386</td>\n      <td>260</td>\n      <td>479</td>\n      <td>0.432309</td>\n      <td>0.791045</td>\n      <td>9</td>\n    </tr>\n  </tbody>\n</table>\n<p>45342 rows × 11 columns</p>\n</div>"
     },
     "execution_count": 6,
     "metadata": {},
     "output_type": "execute_result"
    }
   ],
   "source": [
    "mmp_path = \"./ccrlib_master/\"\n",
    "df_mmp = pd.read_csv(mmp_path + \"df_mmp_final_top10.csv\")\n",
    "df_mmp"
   ],
   "metadata": {
    "collapsed": false,
    "ExecuteTime": {
     "end_time": "2023-09-20T10:12:13.978246600Z",
     "start_time": "2023-09-20T10:12:13.764721100Z"
    }
   },
   "id": "2b543e8271e45d41"
  },
  {
   "cell_type": "markdown",
   "source": [
    "# Select dataset to map"
   ],
   "metadata": {
    "collapsed": false
   },
   "id": "b808a78c99442dde"
  },
  {
   "cell_type": "code",
   "execution_count": 7,
   "outputs": [
    {
     "data": {
      "text/plain": "     trial algorithm       split      explainer  \\\n612      2       SVR  Stratified          SVETA   \n253      1       SVR  Stratified          SVETA   \n686      4       SVR  Stratified          SVETA   \n575      6       RFR  Stratified  TreeExplainer   \n686      4       RFR  Stratified  TreeExplainer   \n..     ...       ...         ...            ...   \n64       6       SVR  Stratified          SVETA   \n51       2       RFR  Stratified  TreeExplainer   \n308      0       RFR  Stratified  TreeExplainer   \n326      3       RFR  Stratified  TreeExplainer   \n374      9       RFR  Stratified  TreeExplainer   \n\n                                        cid  \\\n612                            CHEMBL231209   \n253                            CHEMBL231209   \n686                           CHEMBL1980297   \n575                            CHEMBL231209   \n686                           CHEMBL1980297   \n..                                      ...   \n64   CHEMBL1241427_CHEMBL431784_CHEMBL99414   \n51                             CHEMBL564986   \n308                           CHEMBL3110016   \n326                           CHEMBL4572443   \n374                            CHEMBL381973   \n\n                                                smiles  target ID  \\\n612      Nc1nccc2scc(-c3ccc(NC(=O)Nc4cccc(F)c4)cc3)c12        279   \n253      Nc1nccc2scc(-c3ccc(NC(=O)Nc4cccc(F)c4)cc3)c12        279   \n686  Nc1ncc(-c2cnn(CCO)c2)c2scc(-c3ccc(NC(=O)Nc4ccc...        279   \n575      Nc1nccc2scc(-c3ccc(NC(=O)Nc4cccc(F)c4)cc3)c12        279   \n686  Nc1ncc(-c2cnn(CCO)c2)c2scc(-c3ccc(NC(=O)Nc4ccc...        279   \n..                                                 ...        ...   \n64                  CNC(=O)Oc1ccc2c(c1)C1(C)CCN(C)C1N2        220   \n51   O=C(Cc1ccc(C(F)(F)F)cc1)Nc1ccc(F)c(OCCCN2CCOCC...       2409   \n308       O=C(NO)C1C(c2ccccc2)C1c1cccc(-c2ncc(F)cn2)c1       1865   \n326    COc1cc(Nc2ncnc3cc(-c4ccc(Br)cc4)sc23)cc(OC)c1OC        203   \n374      CCOC(=O)c1cn2ncnc(Oc3ccc4[nH]ccc4c3)c2c1C(C)C        279   \n\n     experimental  prediction  expected_value       mae  analog_series_id  \\\n612      7.823909    7.792598        6.780393  0.031311               469   \n253      7.823909    8.059602        6.605561  0.235693               469   \n686      8.698970    7.513292        6.658732  1.185678               469   \n575      7.823909    7.511273        7.162679  0.312635               469   \n686      8.698970    7.591821        6.987765  1.107149               469   \n..            ...         ...             ...       ...               ...   \n64       7.246417    6.358522        6.202381  0.887895               195   \n51       6.806875    7.304029        7.787603  0.497153               179   \n308      5.275724    5.967153        6.960280  0.691429               293   \n326      6.486782    7.381853        7.703351  0.895070               253   \n374      6.327902    6.901805        7.028284  0.573902               160   \n\n     mmp_id  similarity      dPot  \\\n612     712    0.577465  0.875061   \n253     712    0.577465  0.875061   \n686     712    0.577465  0.875061   \n575     712    0.577465  0.875061   \n686     712    0.577465  0.875061   \n..      ...         ...       ...   \n64        0    0.576271  1.644357   \n51        0    0.626866  1.373581   \n308       0    0.560976  0.262496   \n326       0    0.800000  1.151490   \n374       0    0.781250  0.180736   \n\n                                           shap_values  \\\n612  [0.0, -0.042315349732468664, 0.125772584619251...   \n253  [0.0, 0.0049452889600290805, 0.026442399419653...   \n686  [0.0, -0.041108049796584355, -0.03691504541052...   \n575  [0.0, 0.0006084641881898278, -0.00030742519273...   \n686  [0.0, -0.0005145513361640042, -3.7467281072167...   \n..                                                 ...   \n64   [0.0, 0.025880837740166147, -0.060095810589210...   \n51   [0.0, 0.0037664150739146864, 1.448210125090554...   \n308  [0.0, -0.003005826466542203, -0.00214813620201...   \n326  [0.0, -0.0020277417244506067, -0.0003055260831...   \n374  [0.0, -0.004562007582135266, 9.9820097675547e-...   \n\n                                           fingerprint  conf_expected   Set  \\\n612  [0, 0, 0, 0, 0, 0, 0, 0, 0, 0, 0, 0, 0, 0, 0, ...       7.792598  Test   \n253  [0, 0, 0, 0, 0, 0, 0, 0, 0, 0, 0, 0, 0, 0, 0, ...       8.059602  Test   \n686  [0, 0, 0, 0, 0, 0, 0, 0, 0, 0, 1, 0, 0, 0, 0, ...       7.513292  Test   \n575  [0, 0, 0, 0, 0, 0, 0, 0, 0, 0, 0, 0, 0, 0, 0, ...       7.511273  Test   \n686  [0, 0, 0, 0, 0, 0, 0, 0, 0, 0, 1, 0, 0, 0, 0, ...       7.591822  Test   \n..                                                 ...            ...   ...   \n64   [0, 0, 0, 0, 0, 0, 0, 0, 0, 0, 0, 0, 0, 0, 0, ...       6.358522  Test   \n51   [0, 0, 0, 0, 0, 0, 0, 0, 0, 0, 0, 0, 0, 1, 0, ...       7.304028  Test   \n308  [0, 0, 0, 0, 0, 0, 0, 0, 0, 0, 0, 0, 0, 0, 0, ...       5.967153  Test   \n326  [0, 0, 0, 0, 0, 0, 0, 0, 0, 0, 0, 0, 0, 0, 0, ...       7.381853  Test   \n374  [0, 1, 0, 0, 0, 0, 0, 0, 0, 0, 0, 0, 0, 0, 0, ...       6.901804  Test   \n\n     mmp_trial  \n612          0  \n253          0  \n686          0  \n575          0  \n686          0  \n..         ...  \n64           0  \n51           0  \n308          0  \n326          0  \n374          0  \n\n[90700 rows x 20 columns]",
      "text/html": "<div>\n<style scoped>\n    .dataframe tbody tr th:only-of-type {\n        vertical-align: middle;\n    }\n\n    .dataframe tbody tr th {\n        vertical-align: top;\n    }\n\n    .dataframe thead th {\n        text-align: right;\n    }\n</style>\n<table border=\"1\" class=\"dataframe\">\n  <thead>\n    <tr style=\"text-align: right;\">\n      <th></th>\n      <th>trial</th>\n      <th>algorithm</th>\n      <th>split</th>\n      <th>explainer</th>\n      <th>cid</th>\n      <th>smiles</th>\n      <th>target ID</th>\n      <th>experimental</th>\n      <th>prediction</th>\n      <th>expected_value</th>\n      <th>mae</th>\n      <th>analog_series_id</th>\n      <th>mmp_id</th>\n      <th>similarity</th>\n      <th>dPot</th>\n      <th>shap_values</th>\n      <th>fingerprint</th>\n      <th>conf_expected</th>\n      <th>Set</th>\n      <th>mmp_trial</th>\n    </tr>\n  </thead>\n  <tbody>\n    <tr>\n      <th>612</th>\n      <td>2</td>\n      <td>SVR</td>\n      <td>Stratified</td>\n      <td>SVETA</td>\n      <td>CHEMBL231209</td>\n      <td>Nc1nccc2scc(-c3ccc(NC(=O)Nc4cccc(F)c4)cc3)c12</td>\n      <td>279</td>\n      <td>7.823909</td>\n      <td>7.792598</td>\n      <td>6.780393</td>\n      <td>0.031311</td>\n      <td>469</td>\n      <td>712</td>\n      <td>0.577465</td>\n      <td>0.875061</td>\n      <td>[0.0, -0.042315349732468664, 0.125772584619251...</td>\n      <td>[0, 0, 0, 0, 0, 0, 0, 0, 0, 0, 0, 0, 0, 0, 0, ...</td>\n      <td>7.792598</td>\n      <td>Test</td>\n      <td>0</td>\n    </tr>\n    <tr>\n      <th>253</th>\n      <td>1</td>\n      <td>SVR</td>\n      <td>Stratified</td>\n      <td>SVETA</td>\n      <td>CHEMBL231209</td>\n      <td>Nc1nccc2scc(-c3ccc(NC(=O)Nc4cccc(F)c4)cc3)c12</td>\n      <td>279</td>\n      <td>7.823909</td>\n      <td>8.059602</td>\n      <td>6.605561</td>\n      <td>0.235693</td>\n      <td>469</td>\n      <td>712</td>\n      <td>0.577465</td>\n      <td>0.875061</td>\n      <td>[0.0, 0.0049452889600290805, 0.026442399419653...</td>\n      <td>[0, 0, 0, 0, 0, 0, 0, 0, 0, 0, 0, 0, 0, 0, 0, ...</td>\n      <td>8.059602</td>\n      <td>Test</td>\n      <td>0</td>\n    </tr>\n    <tr>\n      <th>686</th>\n      <td>4</td>\n      <td>SVR</td>\n      <td>Stratified</td>\n      <td>SVETA</td>\n      <td>CHEMBL1980297</td>\n      <td>Nc1ncc(-c2cnn(CCO)c2)c2scc(-c3ccc(NC(=O)Nc4ccc...</td>\n      <td>279</td>\n      <td>8.698970</td>\n      <td>7.513292</td>\n      <td>6.658732</td>\n      <td>1.185678</td>\n      <td>469</td>\n      <td>712</td>\n      <td>0.577465</td>\n      <td>0.875061</td>\n      <td>[0.0, -0.041108049796584355, -0.03691504541052...</td>\n      <td>[0, 0, 0, 0, 0, 0, 0, 0, 0, 0, 1, 0, 0, 0, 0, ...</td>\n      <td>7.513292</td>\n      <td>Test</td>\n      <td>0</td>\n    </tr>\n    <tr>\n      <th>575</th>\n      <td>6</td>\n      <td>RFR</td>\n      <td>Stratified</td>\n      <td>TreeExplainer</td>\n      <td>CHEMBL231209</td>\n      <td>Nc1nccc2scc(-c3ccc(NC(=O)Nc4cccc(F)c4)cc3)c12</td>\n      <td>279</td>\n      <td>7.823909</td>\n      <td>7.511273</td>\n      <td>7.162679</td>\n      <td>0.312635</td>\n      <td>469</td>\n      <td>712</td>\n      <td>0.577465</td>\n      <td>0.875061</td>\n      <td>[0.0, 0.0006084641881898278, -0.00030742519273...</td>\n      <td>[0, 0, 0, 0, 0, 0, 0, 0, 0, 0, 0, 0, 0, 0, 0, ...</td>\n      <td>7.511273</td>\n      <td>Test</td>\n      <td>0</td>\n    </tr>\n    <tr>\n      <th>686</th>\n      <td>4</td>\n      <td>RFR</td>\n      <td>Stratified</td>\n      <td>TreeExplainer</td>\n      <td>CHEMBL1980297</td>\n      <td>Nc1ncc(-c2cnn(CCO)c2)c2scc(-c3ccc(NC(=O)Nc4ccc...</td>\n      <td>279</td>\n      <td>8.698970</td>\n      <td>7.591821</td>\n      <td>6.987765</td>\n      <td>1.107149</td>\n      <td>469</td>\n      <td>712</td>\n      <td>0.577465</td>\n      <td>0.875061</td>\n      <td>[0.0, -0.0005145513361640042, -3.7467281072167...</td>\n      <td>[0, 0, 0, 0, 0, 0, 0, 0, 0, 0, 1, 0, 0, 0, 0, ...</td>\n      <td>7.591822</td>\n      <td>Test</td>\n      <td>0</td>\n    </tr>\n    <tr>\n      <th>...</th>\n      <td>...</td>\n      <td>...</td>\n      <td>...</td>\n      <td>...</td>\n      <td>...</td>\n      <td>...</td>\n      <td>...</td>\n      <td>...</td>\n      <td>...</td>\n      <td>...</td>\n      <td>...</td>\n      <td>...</td>\n      <td>...</td>\n      <td>...</td>\n      <td>...</td>\n      <td>...</td>\n      <td>...</td>\n      <td>...</td>\n      <td>...</td>\n      <td>...</td>\n    </tr>\n    <tr>\n      <th>64</th>\n      <td>6</td>\n      <td>SVR</td>\n      <td>Stratified</td>\n      <td>SVETA</td>\n      <td>CHEMBL1241427_CHEMBL431784_CHEMBL99414</td>\n      <td>CNC(=O)Oc1ccc2c(c1)C1(C)CCN(C)C1N2</td>\n      <td>220</td>\n      <td>7.246417</td>\n      <td>6.358522</td>\n      <td>6.202381</td>\n      <td>0.887895</td>\n      <td>195</td>\n      <td>0</td>\n      <td>0.576271</td>\n      <td>1.644357</td>\n      <td>[0.0, 0.025880837740166147, -0.060095810589210...</td>\n      <td>[0, 0, 0, 0, 0, 0, 0, 0, 0, 0, 0, 0, 0, 0, 0, ...</td>\n      <td>6.358522</td>\n      <td>Test</td>\n      <td>0</td>\n    </tr>\n    <tr>\n      <th>51</th>\n      <td>2</td>\n      <td>RFR</td>\n      <td>Stratified</td>\n      <td>TreeExplainer</td>\n      <td>CHEMBL564986</td>\n      <td>O=C(Cc1ccc(C(F)(F)F)cc1)Nc1ccc(F)c(OCCCN2CCOCC...</td>\n      <td>2409</td>\n      <td>6.806875</td>\n      <td>7.304029</td>\n      <td>7.787603</td>\n      <td>0.497153</td>\n      <td>179</td>\n      <td>0</td>\n      <td>0.626866</td>\n      <td>1.373581</td>\n      <td>[0.0, 0.0037664150739146864, 1.448210125090554...</td>\n      <td>[0, 0, 0, 0, 0, 0, 0, 0, 0, 0, 0, 0, 0, 1, 0, ...</td>\n      <td>7.304028</td>\n      <td>Test</td>\n      <td>0</td>\n    </tr>\n    <tr>\n      <th>308</th>\n      <td>0</td>\n      <td>RFR</td>\n      <td>Stratified</td>\n      <td>TreeExplainer</td>\n      <td>CHEMBL3110016</td>\n      <td>O=C(NO)C1C(c2ccccc2)C1c1cccc(-c2ncc(F)cn2)c1</td>\n      <td>1865</td>\n      <td>5.275724</td>\n      <td>5.967153</td>\n      <td>6.960280</td>\n      <td>0.691429</td>\n      <td>293</td>\n      <td>0</td>\n      <td>0.560976</td>\n      <td>0.262496</td>\n      <td>[0.0, -0.003005826466542203, -0.00214813620201...</td>\n      <td>[0, 0, 0, 0, 0, 0, 0, 0, 0, 0, 0, 0, 0, 0, 0, ...</td>\n      <td>5.967153</td>\n      <td>Test</td>\n      <td>0</td>\n    </tr>\n    <tr>\n      <th>326</th>\n      <td>3</td>\n      <td>RFR</td>\n      <td>Stratified</td>\n      <td>TreeExplainer</td>\n      <td>CHEMBL4572443</td>\n      <td>COc1cc(Nc2ncnc3cc(-c4ccc(Br)cc4)sc23)cc(OC)c1OC</td>\n      <td>203</td>\n      <td>6.486782</td>\n      <td>7.381853</td>\n      <td>7.703351</td>\n      <td>0.895070</td>\n      <td>253</td>\n      <td>0</td>\n      <td>0.800000</td>\n      <td>1.151490</td>\n      <td>[0.0, -0.0020277417244506067, -0.0003055260831...</td>\n      <td>[0, 0, 0, 0, 0, 0, 0, 0, 0, 0, 0, 0, 0, 0, 0, ...</td>\n      <td>7.381853</td>\n      <td>Test</td>\n      <td>0</td>\n    </tr>\n    <tr>\n      <th>374</th>\n      <td>9</td>\n      <td>RFR</td>\n      <td>Stratified</td>\n      <td>TreeExplainer</td>\n      <td>CHEMBL381973</td>\n      <td>CCOC(=O)c1cn2ncnc(Oc3ccc4[nH]ccc4c3)c2c1C(C)C</td>\n      <td>279</td>\n      <td>6.327902</td>\n      <td>6.901805</td>\n      <td>7.028284</td>\n      <td>0.573902</td>\n      <td>160</td>\n      <td>0</td>\n      <td>0.781250</td>\n      <td>0.180736</td>\n      <td>[0.0, -0.004562007582135266, 9.9820097675547e-...</td>\n      <td>[0, 1, 0, 0, 0, 0, 0, 0, 0, 0, 0, 0, 0, 0, 0, ...</td>\n      <td>6.901804</td>\n      <td>Test</td>\n      <td>0</td>\n    </tr>\n  </tbody>\n</table>\n<p>90700 rows × 20 columns</p>\n</div>"
     },
     "execution_count": 7,
     "metadata": {},
     "output_type": "execute_result"
    }
   ],
   "source": [
    "split = \"Stratified\"\n",
    "df_shap_split = df_shap_loaded.query(f'split == \"{split}\"').sort_values('mmp_id', ascending=False)\n",
    "df_shap_split"
   ],
   "metadata": {
    "collapsed": false,
    "ExecuteTime": {
     "end_time": "2023-09-20T10:12:14.168015400Z",
     "start_time": "2023-09-20T10:12:13.967157300Z"
    }
   },
   "id": "ba79c9ac006aea30"
  },
  {
   "cell_type": "markdown",
   "source": [
    "# Generate MOL, bit info and atom wise shap values"
   ],
   "metadata": {
    "collapsed": false
   },
   "id": "ba034d1a20973926"
  },
  {
   "cell_type": "code",
   "execution_count": 14,
   "outputs": [],
   "source": [
    "tqdm.tqdm.pandas()"
   ],
   "metadata": {
    "collapsed": false,
    "ExecuteTime": {
     "end_time": "2023-09-20T10:14:49.081309Z",
     "start_time": "2023-09-20T10:14:48.940896600Z"
    }
   },
   "id": "bacd2228ddf273f1"
  },
  {
   "cell_type": "code",
   "execution_count": 16,
   "outputs": [
    {
     "name": "stderr",
     "output_type": "stream",
     "text": [
      "100%|██████████| 90700/90700 [00:21<00:00, 4306.44it/s]\n",
      "100%|██████████| 90700/90700 [00:29<00:00, 3073.58it/s]\n",
      "100%|██████████| 90700/90700 [01:17<00:00, 1175.41it/s]\n",
      "100%|██████████| 90700/90700 [00:00<00:00, 155842.18it/s]\n"
     ]
    },
    {
     "data": {
      "text/plain": "     trial algorithm       split      explainer  \\\n612      2       SVR  Stratified          SVETA   \n253      1       SVR  Stratified          SVETA   \n686      4       SVR  Stratified          SVETA   \n575      6       RFR  Stratified  TreeExplainer   \n686      4       RFR  Stratified  TreeExplainer   \n..     ...       ...         ...            ...   \n64       6       SVR  Stratified          SVETA   \n51       2       RFR  Stratified  TreeExplainer   \n308      0       RFR  Stratified  TreeExplainer   \n326      3       RFR  Stratified  TreeExplainer   \n374      9       RFR  Stratified  TreeExplainer   \n\n                                        cid  \\\n612                            CHEMBL231209   \n253                            CHEMBL231209   \n686                           CHEMBL1980297   \n575                            CHEMBL231209   \n686                           CHEMBL1980297   \n..                                      ...   \n64   CHEMBL1241427_CHEMBL431784_CHEMBL99414   \n51                             CHEMBL564986   \n308                           CHEMBL3110016   \n326                           CHEMBL4572443   \n374                            CHEMBL381973   \n\n                                                smiles  target ID  \\\n612      Nc1nccc2scc(-c3ccc(NC(=O)Nc4cccc(F)c4)cc3)c12        279   \n253      Nc1nccc2scc(-c3ccc(NC(=O)Nc4cccc(F)c4)cc3)c12        279   \n686  Nc1ncc(-c2cnn(CCO)c2)c2scc(-c3ccc(NC(=O)Nc4ccc...        279   \n575      Nc1nccc2scc(-c3ccc(NC(=O)Nc4cccc(F)c4)cc3)c12        279   \n686  Nc1ncc(-c2cnn(CCO)c2)c2scc(-c3ccc(NC(=O)Nc4ccc...        279   \n..                                                 ...        ...   \n64                  CNC(=O)Oc1ccc2c(c1)C1(C)CCN(C)C1N2        220   \n51   O=C(Cc1ccc(C(F)(F)F)cc1)Nc1ccc(F)c(OCCCN2CCOCC...       2409   \n308       O=C(NO)C1C(c2ccccc2)C1c1cccc(-c2ncc(F)cn2)c1       1865   \n326    COc1cc(Nc2ncnc3cc(-c4ccc(Br)cc4)sc23)cc(OC)c1OC        203   \n374      CCOC(=O)c1cn2ncnc(Oc3ccc4[nH]ccc4c3)c2c1C(C)C        279   \n\n     experimental  prediction  expected_value  ...      dPot  \\\n612      7.823909    7.792598        6.780393  ...  0.875061   \n253      7.823909    8.059602        6.605561  ...  0.875061   \n686      8.698970    7.513292        6.658732  ...  0.875061   \n575      7.823909    7.511273        7.162679  ...  0.875061   \n686      8.698970    7.591821        6.987765  ...  0.875061   \n..            ...         ...             ...  ...       ...   \n64       7.246417    6.358522        6.202381  ...  1.644357   \n51       6.806875    7.304029        7.787603  ...  1.373581   \n308      5.275724    5.967153        6.960280  ...  0.262496   \n326      6.486782    7.381853        7.703351  ...  1.151490   \n374      6.327902    6.901805        7.028284  ...  0.180736   \n\n                                           shap_values  \\\n612  [0.0, -0.042315349732468664, 0.125772584619251...   \n253  [0.0, 0.0049452889600290805, 0.026442399419653...   \n686  [0.0, -0.041108049796584355, -0.03691504541052...   \n575  [0.0, 0.0006084641881898278, -0.00030742519273...   \n686  [0.0, -0.0005145513361640042, -3.7467281072167...   \n..                                                 ...   \n64   [0.0, 0.025880837740166147, -0.060095810589210...   \n51   [0.0, 0.0037664150739146864, 1.448210125090554...   \n308  [0.0, -0.003005826466542203, -0.00214813620201...   \n326  [0.0, -0.0020277417244506067, -0.0003055260831...   \n374  [0.0, -0.004562007582135266, 9.9820097675547e-...   \n\n                                           fingerprint  conf_expected   Set  \\\n612  [0, 0, 0, 0, 0, 0, 0, 0, 0, 0, 0, 0, 0, 0, 0, ...       7.792598  Test   \n253  [0, 0, 0, 0, 0, 0, 0, 0, 0, 0, 0, 0, 0, 0, 0, ...       8.059602  Test   \n686  [0, 0, 0, 0, 0, 0, 0, 0, 0, 0, 1, 0, 0, 0, 0, ...       7.513292  Test   \n575  [0, 0, 0, 0, 0, 0, 0, 0, 0, 0, 0, 0, 0, 0, 0, ...       7.511273  Test   \n686  [0, 0, 0, 0, 0, 0, 0, 0, 0, 0, 1, 0, 0, 0, 0, ...       7.591822  Test   \n..                                                 ...            ...   ...   \n64   [0, 0, 0, 0, 0, 0, 0, 0, 0, 0, 0, 0, 0, 0, 0, ...       6.358522  Test   \n51   [0, 0, 0, 0, 0, 0, 0, 0, 0, 0, 0, 0, 0, 1, 0, ...       7.304028  Test   \n308  [0, 0, 0, 0, 0, 0, 0, 0, 0, 0, 0, 0, 0, 0, 0, ...       5.967153  Test   \n326  [0, 0, 0, 0, 0, 0, 0, 0, 0, 0, 0, 0, 0, 0, 0, ...       7.381853  Test   \n374  [0, 1, 0, 0, 0, 0, 0, 0, 0, 0, 0, 0, 0, 0, 0, ...       6.901804  Test   \n\n    mmp_trial                                                mol  \\\n612         0  <rdkit.Chem.rdchem.Mol object at 0x00000260376...   \n253         0  <rdkit.Chem.rdchem.Mol object at 0x00000260376...   \n686         0  <rdkit.Chem.rdchem.Mol object at 0x0000025B395...   \n575         0  <rdkit.Chem.rdchem.Mol object at 0x00000260376...   \n686         0  <rdkit.Chem.rdchem.Mol object at 0x00000260376...   \n..        ...                                                ...   \n64          0  <rdkit.Chem.rdchem.Mol object at 0x00000260354...   \n51          0  <rdkit.Chem.rdchem.Mol object at 0x00000260354...   \n308         0  <rdkit.Chem.rdchem.Mol object at 0x00000260354...   \n326         0  <rdkit.Chem.rdchem.Mol object at 0x00000260354...   \n374         0  <rdkit.Chem.rdchem.Mol object at 0x00000260354...   \n\n                                              bit_info  \\\n612  {56: ((14, 2),), 184: ((17, 2),), 191: ((12, 1...   \n253  {56: ((14, 2),), 184: ((17, 2),), 191: ((12, 1...   \n686  {10: ((13, 2),), 43: ((7, 1),), 56: ((22, 2),)...   \n575  {56: ((14, 2),), 184: ((17, 2),), 191: ((12, 1...   \n686  {10: ((13, 2),), 43: ((7, 1),), 56: ((22, 2),)...   \n..                                                 ...   \n64   {74: ((7, 2),), 120: ((18, 2),), 301: ((18, 1)...   \n51   {13: ((21, 1),), 41: ((1, 1),), 80: ((2, 0), (...   \n308  {68: ((21, 2),), 335: ((4, 1),), 378: ((19, 0)...   \n326  {62: ((12, 1),), 131: ((21, 1),), 162: ((20, 1...   \n374  {1: ((24, 0),), 26: ((20, 2),), 43: ((8, 1),),...   \n\n                                    column_mapped_shap  HA  \n612  [0.6138131423114661, 0.30262942439721496, 0.02...  27  \n253  [0.5930084798165375, 0.30460524251568305, -0.0...  27  \n686  [0.35222626261260337, -0.07853901646811377, -0...  35  \n575  [0.053600748505578444, 0.03979514973030453, 0....  27  \n686  [0.08970334490605274, 0.03934064787168397, 0.0...  35  \n..                                                 ...  ..  \n64   [0.44120750893578875, 0.5744055703769274, 0.76...  19  \n51   [-0.028324448300812773, -0.05160956879102481, ...  31  \n308  [-0.04223952263293593, -0.0718805097932884, -0...  26  \n326  [-0.003716929056370039, -0.006848392501659079,...  29  \n374  [-0.013188958106325114, -0.036858100753369656,...  27  \n\n[90700 rows x 24 columns]",
      "text/html": "<div>\n<style scoped>\n    .dataframe tbody tr th:only-of-type {\n        vertical-align: middle;\n    }\n\n    .dataframe tbody tr th {\n        vertical-align: top;\n    }\n\n    .dataframe thead th {\n        text-align: right;\n    }\n</style>\n<table border=\"1\" class=\"dataframe\">\n  <thead>\n    <tr style=\"text-align: right;\">\n      <th></th>\n      <th>trial</th>\n      <th>algorithm</th>\n      <th>split</th>\n      <th>explainer</th>\n      <th>cid</th>\n      <th>smiles</th>\n      <th>target ID</th>\n      <th>experimental</th>\n      <th>prediction</th>\n      <th>expected_value</th>\n      <th>...</th>\n      <th>dPot</th>\n      <th>shap_values</th>\n      <th>fingerprint</th>\n      <th>conf_expected</th>\n      <th>Set</th>\n      <th>mmp_trial</th>\n      <th>mol</th>\n      <th>bit_info</th>\n      <th>column_mapped_shap</th>\n      <th>HA</th>\n    </tr>\n  </thead>\n  <tbody>\n    <tr>\n      <th>612</th>\n      <td>2</td>\n      <td>SVR</td>\n      <td>Stratified</td>\n      <td>SVETA</td>\n      <td>CHEMBL231209</td>\n      <td>Nc1nccc2scc(-c3ccc(NC(=O)Nc4cccc(F)c4)cc3)c12</td>\n      <td>279</td>\n      <td>7.823909</td>\n      <td>7.792598</td>\n      <td>6.780393</td>\n      <td>...</td>\n      <td>0.875061</td>\n      <td>[0.0, -0.042315349732468664, 0.125772584619251...</td>\n      <td>[0, 0, 0, 0, 0, 0, 0, 0, 0, 0, 0, 0, 0, 0, 0, ...</td>\n      <td>7.792598</td>\n      <td>Test</td>\n      <td>0</td>\n      <td>&lt;rdkit.Chem.rdchem.Mol object at 0x00000260376...</td>\n      <td>{56: ((14, 2),), 184: ((17, 2),), 191: ((12, 1...</td>\n      <td>[0.6138131423114661, 0.30262942439721496, 0.02...</td>\n      <td>27</td>\n    </tr>\n    <tr>\n      <th>253</th>\n      <td>1</td>\n      <td>SVR</td>\n      <td>Stratified</td>\n      <td>SVETA</td>\n      <td>CHEMBL231209</td>\n      <td>Nc1nccc2scc(-c3ccc(NC(=O)Nc4cccc(F)c4)cc3)c12</td>\n      <td>279</td>\n      <td>7.823909</td>\n      <td>8.059602</td>\n      <td>6.605561</td>\n      <td>...</td>\n      <td>0.875061</td>\n      <td>[0.0, 0.0049452889600290805, 0.026442399419653...</td>\n      <td>[0, 0, 0, 0, 0, 0, 0, 0, 0, 0, 0, 0, 0, 0, 0, ...</td>\n      <td>8.059602</td>\n      <td>Test</td>\n      <td>0</td>\n      <td>&lt;rdkit.Chem.rdchem.Mol object at 0x00000260376...</td>\n      <td>{56: ((14, 2),), 184: ((17, 2),), 191: ((12, 1...</td>\n      <td>[0.5930084798165375, 0.30460524251568305, -0.0...</td>\n      <td>27</td>\n    </tr>\n    <tr>\n      <th>686</th>\n      <td>4</td>\n      <td>SVR</td>\n      <td>Stratified</td>\n      <td>SVETA</td>\n      <td>CHEMBL1980297</td>\n      <td>Nc1ncc(-c2cnn(CCO)c2)c2scc(-c3ccc(NC(=O)Nc4ccc...</td>\n      <td>279</td>\n      <td>8.698970</td>\n      <td>7.513292</td>\n      <td>6.658732</td>\n      <td>...</td>\n      <td>0.875061</td>\n      <td>[0.0, -0.041108049796584355, -0.03691504541052...</td>\n      <td>[0, 0, 0, 0, 0, 0, 0, 0, 0, 0, 1, 0, 0, 0, 0, ...</td>\n      <td>7.513292</td>\n      <td>Test</td>\n      <td>0</td>\n      <td>&lt;rdkit.Chem.rdchem.Mol object at 0x0000025B395...</td>\n      <td>{10: ((13, 2),), 43: ((7, 1),), 56: ((22, 2),)...</td>\n      <td>[0.35222626261260337, -0.07853901646811377, -0...</td>\n      <td>35</td>\n    </tr>\n    <tr>\n      <th>575</th>\n      <td>6</td>\n      <td>RFR</td>\n      <td>Stratified</td>\n      <td>TreeExplainer</td>\n      <td>CHEMBL231209</td>\n      <td>Nc1nccc2scc(-c3ccc(NC(=O)Nc4cccc(F)c4)cc3)c12</td>\n      <td>279</td>\n      <td>7.823909</td>\n      <td>7.511273</td>\n      <td>7.162679</td>\n      <td>...</td>\n      <td>0.875061</td>\n      <td>[0.0, 0.0006084641881898278, -0.00030742519273...</td>\n      <td>[0, 0, 0, 0, 0, 0, 0, 0, 0, 0, 0, 0, 0, 0, 0, ...</td>\n      <td>7.511273</td>\n      <td>Test</td>\n      <td>0</td>\n      <td>&lt;rdkit.Chem.rdchem.Mol object at 0x00000260376...</td>\n      <td>{56: ((14, 2),), 184: ((17, 2),), 191: ((12, 1...</td>\n      <td>[0.053600748505578444, 0.03979514973030453, 0....</td>\n      <td>27</td>\n    </tr>\n    <tr>\n      <th>686</th>\n      <td>4</td>\n      <td>RFR</td>\n      <td>Stratified</td>\n      <td>TreeExplainer</td>\n      <td>CHEMBL1980297</td>\n      <td>Nc1ncc(-c2cnn(CCO)c2)c2scc(-c3ccc(NC(=O)Nc4ccc...</td>\n      <td>279</td>\n      <td>8.698970</td>\n      <td>7.591821</td>\n      <td>6.987765</td>\n      <td>...</td>\n      <td>0.875061</td>\n      <td>[0.0, -0.0005145513361640042, -3.7467281072167...</td>\n      <td>[0, 0, 0, 0, 0, 0, 0, 0, 0, 0, 1, 0, 0, 0, 0, ...</td>\n      <td>7.591822</td>\n      <td>Test</td>\n      <td>0</td>\n      <td>&lt;rdkit.Chem.rdchem.Mol object at 0x00000260376...</td>\n      <td>{10: ((13, 2),), 43: ((7, 1),), 56: ((22, 2),)...</td>\n      <td>[0.08970334490605274, 0.03934064787168397, 0.0...</td>\n      <td>35</td>\n    </tr>\n    <tr>\n      <th>...</th>\n      <td>...</td>\n      <td>...</td>\n      <td>...</td>\n      <td>...</td>\n      <td>...</td>\n      <td>...</td>\n      <td>...</td>\n      <td>...</td>\n      <td>...</td>\n      <td>...</td>\n      <td>...</td>\n      <td>...</td>\n      <td>...</td>\n      <td>...</td>\n      <td>...</td>\n      <td>...</td>\n      <td>...</td>\n      <td>...</td>\n      <td>...</td>\n      <td>...</td>\n      <td>...</td>\n    </tr>\n    <tr>\n      <th>64</th>\n      <td>6</td>\n      <td>SVR</td>\n      <td>Stratified</td>\n      <td>SVETA</td>\n      <td>CHEMBL1241427_CHEMBL431784_CHEMBL99414</td>\n      <td>CNC(=O)Oc1ccc2c(c1)C1(C)CCN(C)C1N2</td>\n      <td>220</td>\n      <td>7.246417</td>\n      <td>6.358522</td>\n      <td>6.202381</td>\n      <td>...</td>\n      <td>1.644357</td>\n      <td>[0.0, 0.025880837740166147, -0.060095810589210...</td>\n      <td>[0, 0, 0, 0, 0, 0, 0, 0, 0, 0, 0, 0, 0, 0, 0, ...</td>\n      <td>6.358522</td>\n      <td>Test</td>\n      <td>0</td>\n      <td>&lt;rdkit.Chem.rdchem.Mol object at 0x00000260354...</td>\n      <td>{74: ((7, 2),), 120: ((18, 2),), 301: ((18, 1)...</td>\n      <td>[0.44120750893578875, 0.5744055703769274, 0.76...</td>\n      <td>19</td>\n    </tr>\n    <tr>\n      <th>51</th>\n      <td>2</td>\n      <td>RFR</td>\n      <td>Stratified</td>\n      <td>TreeExplainer</td>\n      <td>CHEMBL564986</td>\n      <td>O=C(Cc1ccc(C(F)(F)F)cc1)Nc1ccc(F)c(OCCCN2CCOCC...</td>\n      <td>2409</td>\n      <td>6.806875</td>\n      <td>7.304029</td>\n      <td>7.787603</td>\n      <td>...</td>\n      <td>1.373581</td>\n      <td>[0.0, 0.0037664150739146864, 1.448210125090554...</td>\n      <td>[0, 0, 0, 0, 0, 0, 0, 0, 0, 0, 0, 0, 0, 1, 0, ...</td>\n      <td>7.304028</td>\n      <td>Test</td>\n      <td>0</td>\n      <td>&lt;rdkit.Chem.rdchem.Mol object at 0x00000260354...</td>\n      <td>{13: ((21, 1),), 41: ((1, 1),), 80: ((2, 0), (...</td>\n      <td>[-0.028324448300812773, -0.05160956879102481, ...</td>\n      <td>31</td>\n    </tr>\n    <tr>\n      <th>308</th>\n      <td>0</td>\n      <td>RFR</td>\n      <td>Stratified</td>\n      <td>TreeExplainer</td>\n      <td>CHEMBL3110016</td>\n      <td>O=C(NO)C1C(c2ccccc2)C1c1cccc(-c2ncc(F)cn2)c1</td>\n      <td>1865</td>\n      <td>5.275724</td>\n      <td>5.967153</td>\n      <td>6.960280</td>\n      <td>...</td>\n      <td>0.262496</td>\n      <td>[0.0, -0.003005826466542203, -0.00214813620201...</td>\n      <td>[0, 0, 0, 0, 0, 0, 0, 0, 0, 0, 0, 0, 0, 0, 0, ...</td>\n      <td>5.967153</td>\n      <td>Test</td>\n      <td>0</td>\n      <td>&lt;rdkit.Chem.rdchem.Mol object at 0x00000260354...</td>\n      <td>{68: ((21, 2),), 335: ((4, 1),), 378: ((19, 0)...</td>\n      <td>[-0.04223952263293593, -0.0718805097932884, -0...</td>\n      <td>26</td>\n    </tr>\n    <tr>\n      <th>326</th>\n      <td>3</td>\n      <td>RFR</td>\n      <td>Stratified</td>\n      <td>TreeExplainer</td>\n      <td>CHEMBL4572443</td>\n      <td>COc1cc(Nc2ncnc3cc(-c4ccc(Br)cc4)sc23)cc(OC)c1OC</td>\n      <td>203</td>\n      <td>6.486782</td>\n      <td>7.381853</td>\n      <td>7.703351</td>\n      <td>...</td>\n      <td>1.151490</td>\n      <td>[0.0, -0.0020277417244506067, -0.0003055260831...</td>\n      <td>[0, 0, 0, 0, 0, 0, 0, 0, 0, 0, 0, 0, 0, 0, 0, ...</td>\n      <td>7.381853</td>\n      <td>Test</td>\n      <td>0</td>\n      <td>&lt;rdkit.Chem.rdchem.Mol object at 0x00000260354...</td>\n      <td>{62: ((12, 1),), 131: ((21, 1),), 162: ((20, 1...</td>\n      <td>[-0.003716929056370039, -0.006848392501659079,...</td>\n      <td>29</td>\n    </tr>\n    <tr>\n      <th>374</th>\n      <td>9</td>\n      <td>RFR</td>\n      <td>Stratified</td>\n      <td>TreeExplainer</td>\n      <td>CHEMBL381973</td>\n      <td>CCOC(=O)c1cn2ncnc(Oc3ccc4[nH]ccc4c3)c2c1C(C)C</td>\n      <td>279</td>\n      <td>6.327902</td>\n      <td>6.901805</td>\n      <td>7.028284</td>\n      <td>...</td>\n      <td>0.180736</td>\n      <td>[0.0, -0.004562007582135266, 9.9820097675547e-...</td>\n      <td>[0, 1, 0, 0, 0, 0, 0, 0, 0, 0, 0, 0, 0, 0, 0, ...</td>\n      <td>6.901804</td>\n      <td>Test</td>\n      <td>0</td>\n      <td>&lt;rdkit.Chem.rdchem.Mol object at 0x00000260354...</td>\n      <td>{1: ((24, 0),), 26: ((20, 2),), 43: ((8, 1),),...</td>\n      <td>[-0.013188958106325114, -0.036858100753369656,...</td>\n      <td>27</td>\n    </tr>\n  </tbody>\n</table>\n<p>90700 rows × 24 columns</p>\n</div>"
     },
     "execution_count": 16,
     "metadata": {},
     "output_type": "execute_result"
    }
   ],
   "source": [
    "df_shap_split['mol'] = [Chem.MolFromSmiles(x) for x in tqdm.tqdm(df_shap_split['smiles'])]\n",
    "df_shap_split['bit_info'] = [get_ecfp4_bit_info(smiles) for smiles in tqdm.tqdm(df_shap_split['smiles'])]\n",
    "df_shap_split['column_mapped_shap'] = df_shap_split.progress_apply(lambda x: shap_to_atom_weight(mol=x.mol, dict_bit_info=x.bit_info, shapley_values=x.shap_values), axis=1)\n",
    "df_shap_split['HA'] = df_shap_split['smiles'].progress_apply(lambda x: count_heavy_atoms(x))\n",
    "df_shap_split"
   ],
   "metadata": {
    "collapsed": false,
    "ExecuteTime": {
     "end_time": "2023-09-20T10:17:17.966390400Z",
     "start_time": "2023-09-20T10:15:07.299978900Z"
    }
   },
   "id": "c8e6b2cc24fd0474"
  },
  {
   "cell_type": "markdown",
   "source": [
    "# Free memory"
   ],
   "metadata": {
    "collapsed": false
   },
   "id": "9a4e0619108b524f"
  },
  {
   "cell_type": "code",
   "execution_count": 17,
   "outputs": [],
   "source": [
    "del df_shap_loaded_all"
   ],
   "metadata": {
    "collapsed": false,
    "ExecuteTime": {
     "end_time": "2023-09-20T10:17:41.288120700Z",
     "start_time": "2023-09-20T10:17:19.174006400Z"
    }
   },
   "id": "4c6d5a6830678142"
  },
  {
   "cell_type": "markdown",
   "source": [
    "# Drawing drawing parameters"
   ],
   "metadata": {
    "collapsed": false
   },
   "id": "492b032be6ee8531"
  },
  {
   "cell_type": "code",
   "execution_count": 18,
   "outputs": [],
   "source": [
    "%autoreload\n",
    "font = utils_pil.get_font(75)\n",
    "font_bold = utils_pil.get_font(75, utils_pil.DEFAULT_FONT_BOLD)\n",
    "mol_size = (1500, 1000)"
   ],
   "metadata": {
    "collapsed": false,
    "ExecuteTime": {
     "end_time": "2023-09-20T10:17:53.514144100Z",
     "start_time": "2023-09-20T10:17:53.280593900Z"
    }
   },
   "id": "8c5f6e1e40f1b37f"
  },
  {
   "cell_type": "code",
   "execution_count": 71,
   "outputs": [],
   "source": [
    "from tqdm import tqdm\n",
    "\n",
    "def get_compound_shap_map(df_shap_sp, target_id=None, trial=1, mmp_path_file = mmp_path +'mmp_results/top10/'):\n",
    "    \n",
    "    # generate images for each mmp compound\n",
    "    df_shap_l = []\n",
    "\n",
    "    df_target = df_shap_sp.loc[df_shap_sp['target ID'] == target_id]\n",
    "    \n",
    "    for trial in range(trial):\n",
    "        \n",
    "        df_target_trial = df_target.query('trial == @trial')\n",
    "        \n",
    "        for mmid in tqdm(df_target_trial.mmp_id.unique()[:]):\n",
    "            \n",
    "            df_shap_mmp = df_target_trial.query(f'mmp_id == {mmid}').sort_values(by='HA', ascending=True)\n",
    "            \n",
    "            mmp_core = get_mmp_core(df_shap_mmp['target ID'].unique()[0], df_shap_mmp.analog_series_id.unique()[0], df_shap_mmp.cid.values[0], mmp_path_file)\n",
    "            \n",
    "            df_shap_mmp['Mapping img'] = df_shap_mmp.apply(lambda x: get_atom_wise_weight_map_ref_mol(m=x.mol, weights=x.column_mapped_shap, mol_size=mol_size, \n",
    "                                                                                                      ref_mol=df_shap_mmp.head(1).mol.values[0],\n",
    "                                                                                                      highlightsub=mmp_core, cmap=None), axis=1)\n",
    "            df_shap_l.append(df_shap_mmp)\n",
    "\n",
    "    df_shap_final = pd.concat(df_shap_l)\n",
    "    df_shap_final.rename(columns={'train_test': 'Set'}, inplace=True)\n",
    "    df_shap_final['Set'] = df_shap_final['Set'].str.replace('test', 'Test')\n",
    "    del df_shap_l\n",
    "    \n",
    "    return df_shap_final\n",
    "\n",
    "def get_shap_map(df_shap_final, prediction_type = 'correct', correct_thr=0.5, incorrect_thr=1.5):\n",
    "    \n",
    "    if prediction_type == 'correct':\n",
    "        df_shap_final_ = df_shap_final.loc[(df_shap_final['mae'] < correct_thr)]\n",
    "\n",
    "    else:\n",
    "        df_shap_final_ = df_shap_final.loc[(df_shap_final['mae'] > incorrect_thr)]\n",
    "        \n",
    "    #display(df_shap_final_)\n",
    "    df_img = df_shap_final_[['target ID', 'algorithm', 'explainer', 'Mapping img', 'prediction', 'experimental', 'Set', 'cid', 'mmp_id', 'trial']].copy()\n",
    "    df_img['Prediction'] = df_img['prediction'].apply(lambda x: round(x, 1))\n",
    "    df_img['Experimental'] =  df_img['experimental'].apply(lambda x: str(round(x, 1)))\n",
    "    #display(df_img)\n",
    "    del df_shap_final_\n",
    "\n",
    "    column_img = 'img'\n",
    "    column_img_title = 'Title image pred'\n",
    "    column_img_title_ = 'Title image exp'\n",
    "\n",
    "    df_img[column_img_title] = df_img['Prediction'].apply(lambda x: utils_pil.get_text_image(f'Prediction: {x}', font=font, width_spacing = 0, height_spacing= 10))\n",
    "    df_img[column_img_title_] = df_img['Experimental'].apply(lambda x: utils_pil.get_text_image(f'Experimental:  {x}', font=font, width_spacing = 40, height_spacing= 10))\n",
    "\n",
    "    df_img[column_img] = df_img[['Title image exp', 'Title image pred' ,'Mapping img']].apply(lambda x: utils_pil.get_grid_image(x.to_numpy().reshape((3,1))), axis=1)\n",
    "    df_img.reset_index(inplace=True)\n",
    "    \n",
    "    final_img = []\n",
    "    for mmidx in df_img.mmp_id.unique()[:]:\n",
    "        df_img_target_mmp =  df_img.query(f'mmp_id == {mmidx}')\n",
    "        if len(df_img_target_mmp) == 2:\n",
    "            final_img.append(df_img_target_mmp)\n",
    "    \n",
    "    del df_img\n",
    "    \n",
    "    if len(final_img) > 0:\n",
    "        df_final_img = pd.concat(final_img)\n",
    "        df_final_img.rename(columns={'algorithm': 'Algorithm'}, inplace=True)\n",
    "        #display(df_final_img)\n",
    "        return df_final_img\n",
    "    else:\n",
    "        return None\n",
    "\n",
    "def get_cpd_shap_img(df_image, prediction_type = 'correct', target_id=None, trial=1, max_mmp_images=10):\n",
    "    \n",
    "    if df_image is None:\n",
    "        print('No images to generate')\n",
    "    else:\n",
    "        for trl in range(trial):\n",
    "            df_img_target_trial = df_image.query('trial == @trl')\n",
    "\n",
    "            for i, mmp_idx in enumerate(df_img_target_trial.mmp_id.unique()[:]):\n",
    "                if i > max_mmp_images:\n",
    "                    print('Max images reached')\n",
    "                    break\n",
    "                else:\n",
    "                    print('Generating image for mmp_id: ', mmp_idx)\n",
    "                    df_img_mmp = df_img_target_trial.query('mmp_id == @mmp_idx')\n",
    "                    for algorithm in ['SVR', 'RFR']:\n",
    "                        df_img_c = df_img_mmp.query('Algorithm == @algorithm')\n",
    "                        \n",
    "                        df_img_c = df_img_c.sort_values(by=['Experimental'], ascending=True)\n",
    "            \n",
    "                        df_img_pivot = df_img_c.pivot(index='mmp_id', columns=['Algorithm', 'Experimental', ], values='img')\n",
    "                        \n",
    "                        df_img_pivot_t = df_img_pivot.T.sort_values(by=['Experimental'], ascending=False)\n",
    "                        \n",
    "                        df_img_pivot_t['Algorithm'] = df_img_pivot.apply(\n",
    "                            lambda x: utils_pil.get_text_image(str(x.name[0]), font=font_bold), axis=0)\n",
    "                        df_img_pivot = df_img_pivot_t.T\n",
    "            \n",
    "                        del df_img_pivot_t\n",
    "            \n",
    "                        df_img_pivot = df_img_pivot.loc[['Algorithm', df_img_pivot.index[0], ]]\n",
    "            \n",
    "                        img = utils_pil.get_grid_image(df_img_pivot.to_numpy())\n",
    "            \n",
    "                        img.save(os.path.join(create_directory(f'./shap_map_{prediction_type}_predictions/{target_id}/{split}/'),\n",
    "                                              f'{mmp_idx}_{algorithm}_{trial}.jpg'), quality=100, subsampling=0)"
   ],
   "metadata": {
    "collapsed": false,
    "ExecuteTime": {
     "end_time": "2023-09-21T09:54:35.234488400Z",
     "start_time": "2023-09-21T09:54:35.111391700Z"
    }
   },
   "id": "ef327ed48876eeeb"
  },
  {
   "cell_type": "code",
   "execution_count": 72,
   "outputs": [
    {
     "name": "stderr",
     "output_type": "stream",
     "text": [
      "100%|██████████| 713/713 [02:50<00:00,  4.17it/s]\n"
     ]
    },
    {
     "name": "stdout",
     "output_type": "stream",
     "text": [
      "Generating image for mmp_id:  709\n",
      "Generating image for mmp_id:  701\n",
      "Generating image for mmp_id:  530\n",
      "Generating image for mmp_id:  358\n",
      "Generating image for mmp_id:  314\n",
      "Generating image for mmp_id:  234\n",
      "Generating image for mmp_id:  220\n",
      "Generating image for mmp_id:  196\n",
      "Generating image for mmp_id:  191\n",
      "Generating image for mmp_id:  178\n",
      "Generating image for mmp_id:  140\n",
      "Max images reached\n"
     ]
    }
   ],
   "source": [
    "for t in df_shap_split['target ID'].unique()[:1]:\n",
    "    \n",
    "    df_shap_map = get_compound_shap_map(df_shap_split, target_id=t, trial=1)\n",
    "    \n",
    "    for pred_type in ['incorrect',]: #'correct'\n",
    "        map_predtype = get_shap_map(df_shap_map, prediction_type=pred_type)\n",
    "        shap_img  = get_cpd_shap_img(map_predtype, prediction_type=pred_type, target_id=t, trial=1, max_mmp_images=10)\n",
    "        del map_predtype, shap_img\n",
    "    del df_shap_map"
   ],
   "metadata": {
    "collapsed": false,
    "ExecuteTime": {
     "end_time": "2023-09-21T09:57:32.732473400Z",
     "start_time": "2023-09-21T09:54:39.092259900Z"
    }
   },
   "id": "8595b9227306d232"
  },
  {
   "cell_type": "markdown",
   "source": [
    "# Generate Colorbar"
   ],
   "metadata": {
    "collapsed": false
   },
   "id": "771a576726dcaa19"
  },
  {
   "cell_type": "code",
   "execution_count": null,
   "outputs": [],
   "source": [
    "get_color_bar(result_path='./figures/', cmap=None, ticklabels=['Negative', 0, 'Positive'], label='SV / SHAP values', font_size=20)"
   ],
   "metadata": {
    "collapsed": false
   },
   "id": "ffa39f167651438a"
  }
 ],
 "metadata": {
  "kernelspec": {
   "display_name": "Python 3",
   "language": "python",
   "name": "python3"
  },
  "language_info": {
   "codemirror_mode": {
    "name": "ipython",
    "version": 2
   },
   "file_extension": ".py",
   "mimetype": "text/x-python",
   "name": "python",
   "nbconvert_exporter": "python",
   "pygments_lexer": "ipython2",
   "version": "2.7.6"
  }
 },
 "nbformat": 4,
 "nbformat_minor": 5
}
